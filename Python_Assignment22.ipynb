{
 "cells": [
  {
   "cell_type": "raw",
   "id": "67b8ac76",
   "metadata": {},
   "source": [
    "1. What is the result of the code, and explain?"
   ]
  },
  {
   "cell_type": "code",
   "execution_count": 1,
   "id": "64d36e5c",
   "metadata": {},
   "outputs": [
    {
     "name": "stdout",
     "output_type": "stream",
     "text": [
      "iNeuron\n"
     ]
    }
   ],
   "source": [
    "X = 'iNeuron';\n",
    "def func():   #function defenition\n",
    "    print(X)  #prints value of X.As X is declared globally the value of variable X is available even within the function\n",
    "\n",
    "func()  #function func() called"
   ]
  },
  {
   "cell_type": "raw",
   "id": "a1ca34bc",
   "metadata": {},
   "source": [
    "2. What is the result of the code, and explain?"
   ]
  },
  {
   "cell_type": "code",
   "execution_count": 7,
   "id": "3338d363",
   "metadata": {},
   "outputs": [
    {
     "name": "stdout",
     "output_type": "stream",
     "text": [
      "iNeuron\n"
     ]
    }
   ],
   "source": [
    "X = 'iNeuron';\n",
    "\n",
    "def func():   #function defenition\n",
    "    X = 'NI!'\n",
    "    \n",
    "func()   #function func() called\n",
    "\n",
    "print(X) #prints the value of x in line1 as its available globally. \n",
    "         #The value of x in line 3 is declared locally and is available\n",
    "         #only withing the function. Unless x is returned it cannot be accessed outside the function"
   ]
  },
  {
   "cell_type": "raw",
   "id": "f0d6b6fc",
   "metadata": {},
   "source": [
    "3. What does this code print, and why?"
   ]
  },
  {
   "cell_type": "code",
   "execution_count": 6,
   "id": "1a3b106f",
   "metadata": {},
   "outputs": [
    {
     "name": "stdout",
     "output_type": "stream",
     "text": [
      "NI\n",
      "iNeuron\n"
     ]
    }
   ],
   "source": [
    "X = 'iNeuron';\n",
    "\n",
    "def func():   #function defenition\n",
    "    X = 'NI'\n",
    "    print(X) #prints X value in line 4 as its declared within the function\n",
    "    \n",
    "func()   #function func() called\n",
    "\n",
    "print(X) #prints the value of x in line1 as its available globally. \n",
    "         #The value of x in line 4 is declared locally and is available\n",
    "         #only withing the function. Unless x is returned it cannot be accessed outside the function"
   ]
  },
  {
   "cell_type": "raw",
   "id": "3144aa13",
   "metadata": {},
   "source": [
    "4. What output does this code produce? Why?"
   ]
  },
  {
   "cell_type": "code",
   "execution_count": 8,
   "id": "0475b437",
   "metadata": {},
   "outputs": [
    {
     "name": "stdout",
     "output_type": "stream",
     "text": [
      "NI\n"
     ]
    }
   ],
   "source": [
    "X = 'iNeuron';\n",
    "\n",
    "def func():   #function defenition\n",
    "    global X  #converts X into a global variable . Hence the value of X=ineuron will be replaced by NI\n",
    "    X = 'NI'\n",
    "        \n",
    "func()   #function func() called\n",
    "\n",
    "print(X) #prints the value of x in line5 as its available globally.As X inside the func is declared global"
   ]
  },
  {
   "cell_type": "raw",
   "id": "a770dd81",
   "metadata": {},
   "source": [
    "# 5. What about this code—what’s the output, and why?"
   ]
  },
  {
   "cell_type": "code",
   "execution_count": 15,
   "id": "79cd53f8",
   "metadata": {},
   "outputs": [
    {
     "name": "stdout",
     "output_type": "stream",
     "text": [
      "NI\n"
     ]
    },
    {
     "data": {
      "text/plain": [
       "'iNeuron'"
      ]
     },
     "execution_count": 15,
     "metadata": {},
     "output_type": "execute_result"
    }
   ],
   "source": [
    "X = 'iNeuron';\n",
    "\n",
    "def func():   #function defenition\n",
    "    X = 'NI'  #The local variable X of the func() is a non-local variable for the inner function nested() \n",
    "              #which it can access but not modify.\n",
    "    def nested():\n",
    "        print(X)  \n",
    "    nested()            \n",
    "func()   #function func() called\n",
    "\n",
    "X        #As X='ni' has scope only within the func(). Outside func(), X will have its globally declared value\n"
   ]
  },
  {
   "cell_type": "raw",
   "id": "acb364b7",
   "metadata": {},
   "source": [
    "6. How about this code: what is its output in Python 3, and explain?"
   ]
  },
  {
   "cell_type": "code",
   "execution_count": 13,
   "id": "3f9a2337",
   "metadata": {},
   "outputs": [
    {
     "name": "stdout",
     "output_type": "stream",
     "text": [
      "spam\n"
     ]
    }
   ],
   "source": [
    "def func():   #function defenition\n",
    "    X = 'NI'\n",
    "    def nested():\n",
    "        nonlocal X  #Declared nonlocal. \n",
    "        X=\"spam\"\n",
    "    nested()\n",
    "    print(X)  #As X is declared nonlocal, it affect the content of the variable in the upper scope.ie: X value at line2\n",
    "                \n",
    "func()   #function func() called\n"
   ]
  }
 ],
 "metadata": {
  "kernelspec": {
   "display_name": "Python 3 (ipykernel)",
   "language": "python",
   "name": "python3"
  },
  "language_info": {
   "codemirror_mode": {
    "name": "ipython",
    "version": 3
   },
   "file_extension": ".py",
   "mimetype": "text/x-python",
   "name": "python",
   "nbconvert_exporter": "python",
   "pygments_lexer": "ipython3",
   "version": "3.9.7"
  }
 },
 "nbformat": 4,
 "nbformat_minor": 5
}
