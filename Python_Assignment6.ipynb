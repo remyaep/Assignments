{
 "cells": [
  {
   "cell_type": "raw",
   "id": "e74b39aa",
   "metadata": {},
   "source": [
    "1. What are escape characters, and how do you use them?\n",
    "\n",
    "To insert characters that are illegal in a string, we use escape characters.\n",
    "We can use \\ followed by those illegal characters to escape them in a string. Eg: \\n, \\t, \" , '"
   ]
  },
  {
   "cell_type": "code",
   "execution_count": 1,
   "id": "e3161f2a",
   "metadata": {},
   "outputs": [
    {
     "name": "stdout",
     "output_type": "stream",
     "text": [
      "This is a  double quote\n"
     ]
    }
   ],
   "source": [
    "print(\"This is a \"\" double quote\") # without using escape characters"
   ]
  },
  {
   "cell_type": "code",
   "execution_count": 3,
   "id": "a02268f6",
   "metadata": {},
   "outputs": [
    {
     "name": "stdout",
     "output_type": "stream",
     "text": [
      "This is a \"\" double quote\n"
     ]
    }
   ],
   "source": [
    "print(\"This is a \\\"\\\" double quote\") #Using \\ to print \" in the output"
   ]
  },
  {
   "cell_type": "raw",
   "id": "3ad58ec8",
   "metadata": {},
   "source": [
    "2. What do the escape characters n and t stand for?\n",
    "\n",
    "n --> new line\n",
    "t--> tab"
   ]
  },
  {
   "cell_type": "raw",
   "id": "3685a388",
   "metadata": {},
   "source": [
    "3. What is the way to include backslash characters in a string?\n",
    "\n",
    "Using another \\ before backslash"
   ]
  },
  {
   "cell_type": "code",
   "execution_count": 4,
   "id": "3e208738",
   "metadata": {},
   "outputs": [
    {
     "name": "stdout",
     "output_type": "stream",
     "text": [
      "backslash \\\n"
     ]
    }
   ],
   "source": [
    "print(\"backslash \\\\\")"
   ]
  },
  {
   "cell_type": "raw",
   "id": "a465c50e",
   "metadata": {},
   "source": [
    "4. The string \"Howl's Moving Castle\" is a correct value. Why isn't the single quote character in the\n",
    "word Howl's not escaped a problem?\n",
    "\n",
    "This doesn't cause a problem, because the entire string is enclosed within double quotes.\n",
    "If the string was in single quote then using escape character at Howl's would be required"
   ]
  },
  {
   "cell_type": "code",
   "execution_count": 7,
   "id": "cda2548f",
   "metadata": {},
   "outputs": [
    {
     "name": "stdout",
     "output_type": "stream",
     "text": [
      "Howl's Moving Castle\n",
      "Howl's Moving Castle\n"
     ]
    }
   ],
   "source": [
    "print(\"Howl's Moving Castle\")\n",
    "\n",
    "print('Howl\\'s Moving Castle')"
   ]
  },
  {
   "cell_type": "raw",
   "id": "042c9e4a",
   "metadata": {},
   "source": [
    "5. How do you write a string of newlines if you don't want to use the n character?\n",
    "\n",
    "print the two strings in 2 different print functions.\n",
    "As the print function has a default value of \\n"
   ]
  },
  {
   "cell_type": "raw",
   "id": "ba06dbdd",
   "metadata": {},
   "source": [
    "6. What are the values of the given expressions?\n",
    "'Hello, world!'[1]\n",
    "'Hello, world!'[0:5]\n",
    "'Hello, world!'[:5]\n",
    "'Hello, world!'[3:]\n"
   ]
  },
  {
   "cell_type": "code",
   "execution_count": 9,
   "id": "c4c63945",
   "metadata": {},
   "outputs": [
    {
     "data": {
      "text/plain": [
       "'e'"
      ]
     },
     "execution_count": 9,
     "metadata": {},
     "output_type": "execute_result"
    }
   ],
   "source": [
    "'Hello, world!'[1] # 2nd chara from string"
   ]
  },
  {
   "cell_type": "code",
   "execution_count": 10,
   "id": "d318a35c",
   "metadata": {},
   "outputs": [
    {
     "data": {
      "text/plain": [
       "'Hello'"
      ]
     },
     "execution_count": 10,
     "metadata": {},
     "output_type": "execute_result"
    }
   ],
   "source": [
    "'Hello, world!'[0:5]  #1st 5 chara from string"
   ]
  },
  {
   "cell_type": "code",
   "execution_count": 11,
   "id": "f82eb8e8",
   "metadata": {},
   "outputs": [
    {
     "data": {
      "text/plain": [
       "'Hello'"
      ]
     },
     "execution_count": 11,
     "metadata": {},
     "output_type": "execute_result"
    }
   ],
   "source": [
    "'Hello, world!'[:5]  #1st 5 chara from string. Same as above one"
   ]
  },
  {
   "cell_type": "code",
   "execution_count": 12,
   "id": "33226b56",
   "metadata": {},
   "outputs": [
    {
     "data": {
      "text/plain": [
       "'lo, world!'"
      ]
     },
     "execution_count": 12,
     "metadata": {},
     "output_type": "execute_result"
    }
   ],
   "source": [
    "'Hello, world!'[3:]   #4th to last chara from string"
   ]
  },
  {
   "cell_type": "raw",
   "id": "32727cd2",
   "metadata": {},
   "source": [
    "7. What are the values of the following expressions?\n",
    "'Hello'.upper()\n",
    "'Hello'.upper().isupper()\n",
    "'Hello'.upper().lower()\n"
   ]
  },
  {
   "cell_type": "code",
   "execution_count": 15,
   "id": "1964d073",
   "metadata": {},
   "outputs": [
    {
     "data": {
      "text/plain": [
       "'HELLO'"
      ]
     },
     "execution_count": 15,
     "metadata": {},
     "output_type": "execute_result"
    }
   ],
   "source": [
    "'Hello'.upper()  #Converts hello to upper case"
   ]
  },
  {
   "cell_type": "code",
   "execution_count": 14,
   "id": "ceddee31",
   "metadata": {},
   "outputs": [
    {
     "data": {
      "text/plain": [
       "True"
      ]
     },
     "execution_count": 14,
     "metadata": {},
     "output_type": "execute_result"
    }
   ],
   "source": [
    "'Hello'.upper().isupper()   #Converts hello to upper case and checks if its in uppercase"
   ]
  },
  {
   "cell_type": "code",
   "execution_count": 16,
   "id": "6f0c584f",
   "metadata": {},
   "outputs": [
    {
     "data": {
      "text/plain": [
       "'hello'"
      ]
     },
     "execution_count": 16,
     "metadata": {},
     "output_type": "execute_result"
    }
   ],
   "source": [
    "'Hello'.upper().lower()   #Converts hello to upper case and then to lowercase"
   ]
  },
  {
   "cell_type": "raw",
   "id": "95a2fb66",
   "metadata": {},
   "source": [
    "8. What are the values of the following expressions?\n",
    "'Remember, remember, the fifth of July.'.split()\n",
    "'-'.join('There can only one.'.split())"
   ]
  },
  {
   "cell_type": "code",
   "execution_count": 17,
   "id": "08151bd3",
   "metadata": {},
   "outputs": [
    {
     "data": {
      "text/plain": [
       "['Remember,', 'remember,', 'the', 'fifth', 'of', 'July.']"
      ]
     },
     "execution_count": 17,
     "metadata": {},
     "output_type": "execute_result"
    }
   ],
   "source": [
    "'Remember, remember, the fifth of July.'.split()   #split all words from the string and store it in a list"
   ]
  },
  {
   "cell_type": "code",
   "execution_count": 18,
   "id": "b42866c2",
   "metadata": {},
   "outputs": [
    {
     "data": {
      "text/plain": [
       "'There-can-only-one.'"
      ]
     },
     "execution_count": 18,
     "metadata": {},
     "output_type": "execute_result"
    }
   ],
   "source": [
    "'-'.join('There can only one.'.split())   #split all words from the string and store it in a list. And join '-' after each word from the list"
   ]
  },
  {
   "cell_type": "raw",
   "id": "e26b6639",
   "metadata": {},
   "source": [
    "9. What are the methods for right-justifying, left-justifying, and centering a string?\n",
    "\n",
    "ljust, rjust and center"
   ]
  },
  {
   "cell_type": "code",
   "execution_count": 26,
   "id": "64e7179e",
   "metadata": {},
   "outputs": [
    {
     "data": {
      "text/plain": [
       "'Hello World                   '"
      ]
     },
     "execution_count": 26,
     "metadata": {},
     "output_type": "execute_result"
    }
   ],
   "source": [
    "s=\"Hello World\"\n",
    "s.ljust(30)"
   ]
  },
  {
   "cell_type": "code",
   "execution_count": 27,
   "id": "65c6f0e8",
   "metadata": {},
   "outputs": [
    {
     "data": {
      "text/plain": [
       "'                   Hello World'"
      ]
     },
     "execution_count": 27,
     "metadata": {},
     "output_type": "execute_result"
    }
   ],
   "source": [
    "s.rjust(30)"
   ]
  },
  {
   "cell_type": "code",
   "execution_count": 30,
   "id": "ada43240",
   "metadata": {},
   "outputs": [
    {
     "data": {
      "text/plain": [
       "'         Hello World          '"
      ]
     },
     "execution_count": 30,
     "metadata": {},
     "output_type": "execute_result"
    }
   ],
   "source": [
    "s.center(30)"
   ]
  },
  {
   "cell_type": "raw",
   "id": "077081b5",
   "metadata": {},
   "source": [
    "10. What is the best way to remove whitespace characters from the start or end?\n",
    "\n",
    "lstrip  --> to remove whitespace from start\n",
    "rstrip  --> to remove whitespace from end"
   ]
  },
  {
   "cell_type": "code",
   "execution_count": 25,
   "id": "5059e1e4",
   "metadata": {},
   "outputs": [
    {
     "data": {
      "text/plain": [
       "'this is a string   '"
      ]
     },
     "execution_count": 25,
     "metadata": {},
     "output_type": "execute_result"
    }
   ],
   "source": [
    "l = \"  this is a string   \"\n",
    "l.lstrip()"
   ]
  },
  {
   "cell_type": "code",
   "execution_count": 24,
   "id": "535b2bf0",
   "metadata": {},
   "outputs": [
    {
     "data": {
      "text/plain": [
       "'  this is a string'"
      ]
     },
     "execution_count": 24,
     "metadata": {},
     "output_type": "execute_result"
    }
   ],
   "source": [
    "l.rstrip()"
   ]
  }
 ],
 "metadata": {
  "kernelspec": {
   "display_name": "Python 3 (ipykernel)",
   "language": "python",
   "name": "python3"
  },
  "language_info": {
   "codemirror_mode": {
    "name": "ipython",
    "version": 3
   },
   "file_extension": ".py",
   "mimetype": "text/x-python",
   "name": "python",
   "nbconvert_exporter": "python",
   "pygments_lexer": "ipython3",
   "version": "3.9.7"
  }
 },
 "nbformat": 4,
 "nbformat_minor": 5
}
