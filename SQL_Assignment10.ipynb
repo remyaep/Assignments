{
 "cells": [
  {
   "cell_type": "raw",
   "id": "737152e9",
   "metadata": {},
   "source": [
    "Write an SQL query to determine the 5th highest salary without using TOP or limit\n",
    "method.\n",
    "\n",
    "select * from EMP_TABLE order by SALARY desc where rownum = 5"
   ]
  },
  {
   "cell_type": "raw",
   "id": "268fbcd8",
   "metadata": {},
   "source": [
    "Write an SQL query to fetch the list of employees with the same salary.\n",
    "\n",
    "SELECT Employee_name, Salary From\n",
    "(  SELECT Employee_name, Salary, Count(*) Over (Partition by Salary) as Count\n",
    " FROM EMP_TABLE\n",
    " ) \n",
    "WHERE Count>1"
   ]
  }
 ],
 "metadata": {
  "kernelspec": {
   "display_name": "Python 3 (ipykernel)",
   "language": "python",
   "name": "python3"
  },
  "language_info": {
   "codemirror_mode": {
    "name": "ipython",
    "version": 3
   },
   "file_extension": ".py",
   "mimetype": "text/x-python",
   "name": "python",
   "nbconvert_exporter": "python",
   "pygments_lexer": "ipython3",
   "version": "3.9.12"
  }
 },
 "nbformat": 4,
 "nbformat_minor": 5
}
