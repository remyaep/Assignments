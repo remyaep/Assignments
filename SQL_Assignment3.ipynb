{
 "cells": [
  {
   "cell_type": "raw",
   "id": "1e5d66f2",
   "metadata": {},
   "source": [
    "Write an SQL query to print the FIRST_NAME from Worker table after removing white spaces from the right side.\n",
    "\n",
    "cursor.execute(\"select rtrim(FIRST_NAME) from Worker\")"
   ]
  },
  {
   "cell_type": "raw",
   "id": "b757c033",
   "metadata": {},
   "source": [
    "Write an SQL query that fetches the unique values of DEPARTMENT from Worker table and prints its length.\n",
    "\n",
    "cursor.execute(\"select distinct DEPARTMENT, length(DEPARTMENT) from Worker\")"
   ]
  },
  {
   "cell_type": "raw",
   "id": "8a403a82",
   "metadata": {},
   "source": [
    "Write an SQL query to fetch nth max salaries from a table."
   ]
  },
  {
   "cell_type": "raw",
   "id": "3be08e6a",
   "metadata": {},
   "source": [
    "import mysql.connector as conn \n",
    "db = conn.connect(host = '', user ='', password = '')\n",
    "cursor= db.cursor()"
   ]
  },
  {
   "cell_type": "code",
   "execution_count": 13,
   "id": "c4d86d02",
   "metadata": {},
   "outputs": [
    {
     "name": "stdout",
     "output_type": "stream",
     "text": [
      "Enter n2\n"
     ]
    }
   ],
   "source": [
    "n = int(input(\"Enter n\")) - 1\n",
    "cursor.execute(f\"select * from test_db.emp_details order by salary desc limit {n},1\")"
   ]
  },
  {
   "cell_type": "code",
   "execution_count": 14,
   "id": "f335b3f1",
   "metadata": {},
   "outputs": [
    {
     "data": {
      "text/plain": [
       "[('Yedu', 5000)]"
      ]
     },
     "execution_count": 14,
     "metadata": {},
     "output_type": "execute_result"
    }
   ],
   "source": [
    "cursor.fetchall()"
   ]
  },
  {
   "cell_type": "code",
   "execution_count": null,
   "id": "2e76ade0",
   "metadata": {},
   "outputs": [],
   "source": []
  }
 ],
 "metadata": {
  "kernelspec": {
   "display_name": "Python 3 (ipykernel)",
   "language": "python",
   "name": "python3"
  },
  "language_info": {
   "codemirror_mode": {
    "name": "ipython",
    "version": 3
   },
   "file_extension": ".py",
   "mimetype": "text/x-python",
   "name": "python",
   "nbconvert_exporter": "python",
   "pygments_lexer": "ipython3",
   "version": "3.9.7"
  }
 },
 "nbformat": 4,
 "nbformat_minor": 5
}
