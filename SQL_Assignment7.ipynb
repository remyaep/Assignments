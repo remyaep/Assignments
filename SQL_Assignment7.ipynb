{
 "cells": [
  {
   "cell_type": "raw",
   "id": "c5133831",
   "metadata": {},
   "source": [
    "Write an SQL query to show only odd rows from a table.\n",
    "\n",
    "select * from (select * , rownum from EMP_TABLE) where mod(rownum,2)<>0"
   ]
  },
  {
   "cell_type": "raw",
   "id": "6baf0754",
   "metadata": {},
   "source": [
    "Write an SQL query to clone a new table from another table.\n",
    "\n",
    "\n",
    "CREATE TABLE EMP_new LIKE EMP_old;\n",
    "INSERT INTO EMP_new SELECT * FROM EMP_old;"
   ]
  }
 ],
 "metadata": {
  "kernelspec": {
   "display_name": "Python 3 (ipykernel)",
   "language": "python",
   "name": "python3"
  },
  "language_info": {
   "codemirror_mode": {
    "name": "ipython",
    "version": 3
   },
   "file_extension": ".py",
   "mimetype": "text/x-python",
   "name": "python",
   "nbconvert_exporter": "python",
   "pygments_lexer": "ipython3",
   "version": "3.9.12"
  }
 },
 "nbformat": 4,
 "nbformat_minor": 5
}
