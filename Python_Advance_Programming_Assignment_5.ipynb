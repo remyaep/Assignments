{
 "cells": [
  {
   "cell_type": "raw",
   "id": "f44f5722",
   "metadata": {},
   "source": [
    "1. Create a function that takes a number n (integer greater than zero) as an\n",
    "argument, and returns 2 if n is odd and 8 if n is even.\n",
    "You can only use the following arithmetic operators: addition of numbers +,\n",
    "subtraction of numbers -, multiplication of number *, division of number /, and\n",
    "exponentiation **.\n",
    "You are not allowed to use any other methods in this challenge (i.e. no if\n",
    "statements, comparison operators, etc).\n",
    "Examples\n",
    "f(1) ➞ 2\n",
    "f(2) ➞ 8\n",
    "f(3) ➞ 2"
   ]
  },
  {
   "cell_type": "code",
   "execution_count": 331,
   "id": "53f861ec",
   "metadata": {},
   "outputs": [
    {
     "data": {
      "text/plain": [
       "8"
      ]
     },
     "execution_count": 331,
     "metadata": {},
     "output_type": "execute_result"
    }
   ],
   "source": [
    "def f(n):\n",
    "    a=n//2\n",
    "    b=a*2\n",
    "    z=n-b\n",
    "    try:\n",
    "        n/z\n",
    "        return 2\n",
    "    except ZeroDivisionError:\n",
    "        return 8\n",
    "\n",
    "f(2)"
   ]
  },
  {
   "cell_type": "raw",
   "id": "e0ae4950",
   "metadata": {},
   "source": [
    "2. Create a function that returns the majority vote in a list. A majority vote is\n",
    "an element that occurs > N/2 times in a list (where N is the length of the list).\n",
    "Examples\n",
    "majority_vote([\"A\", \"A\", \"B\"]) ➞ \"A\"\n",
    "majority_vote([\"A\", \"A\", \"A\", \"B\", \"C\", \"A\"]) ➞ \"A\"\n",
    "majority_vote([\"A\", \"B\", \"B\", \"A\", \"C\", \"C\"]) ➞ None"
   ]
  },
  {
   "cell_type": "code",
   "execution_count": 101,
   "id": "1baf6ac7",
   "metadata": {},
   "outputs": [
    {
     "data": {
      "text/plain": [
       "'B'"
      ]
     },
     "execution_count": 101,
     "metadata": {},
     "output_type": "execute_result"
    }
   ],
   "source": [
    "def majority_vote(voting_list):\n",
    "    \"\"\"This function returns the majority vote in a list. A majority vote is\n",
    "    an element that occurs > N/2 times in a list\"\"\"\n",
    "    majority= int(len(voting_list)/2)+1\n",
    "    my_dict = {i:voting_list.count(i) for i in voting_list}\n",
    "    \n",
    "    for i in my_dict:\n",
    "        if my_dict[i]>=majority:\n",
    "            return i\n",
    "        else:\n",
    "            continue\n",
    "        \n",
    "    return \"None\"\n",
    "\n",
    "majority_vote([\"A\", \"B\", \"B\", \"B\", \"B\", \"C\"])"
   ]
  },
  {
   "cell_type": "raw",
   "id": "8289e34b",
   "metadata": {},
   "source": [
    "3. Create a function that takes a string txt and censors any word from a given\n",
    "list lst. The text removed must be replaced by the given character char.\n",
    "Examples\n",
    "censor_string(\"Today is a Wednesday!\", [\"Today\", \"a\"], \"-\") ➞ \"----- is -\n",
    "Wednesday!\"\n",
    "censor_string(\"The cow jumped over the moon.\", [\"cow\", \"over\"], \"*\"), \"The ***\n",
    "jumped **** the moon.\")\n",
    "censor_string(\"Why did the chicken cross the road?\", [\"Did\", \"chicken\",\n",
    "\"road\"], \"*\") ➞ \"Why *** the ******* cross the ****?\""
   ]
  },
  {
   "cell_type": "code",
   "execution_count": 149,
   "id": "f085f50e",
   "metadata": {},
   "outputs": [
    {
     "data": {
      "text/plain": [
       "'----- is - Wednesday'"
      ]
     },
     "execution_count": 149,
     "metadata": {},
     "output_type": "execute_result"
    }
   ],
   "source": [
    "def censor_string(string, cens_words, cens_key):\n",
    "    \"\"\"\"\"\"\n",
    "    #removing all punctuations from string for exact match\n",
    "    punc = '''!()-[]{};:'\"\\,<>./?@#$%^&*_~'''\n",
    "    for i in string:\n",
    "        if i in punc:\n",
    "            string = string.replace(i, \"\")\n",
    "    \n",
    "    \n",
    "    #converting all words to lower case in cens_words\n",
    "    for i in range(len(cens_words)):\n",
    "        cens_words[i]=cens_words[i].lower()\n",
    "    \n",
    "    string_list = string.split()\n",
    "    \n",
    "    for i in range(len(string_list)):\n",
    "        if string_list[i].lower() in cens_words:\n",
    "            k=str(string_list[i])\n",
    "            string_list[i]= cens_key*len(k)\n",
    "            \n",
    "    return \" \".join(string_list)\n",
    "\n",
    "censor_string(\"Today is a Wednesday!\", [\"Today\", \"a\"], \"-\")"
   ]
  },
  {
   "cell_type": "raw",
   "id": "945354a3",
   "metadata": {},
   "source": [
    "4. In mathematics a Polydivisible Number (or magic number) is a number in a\n",
    "given number base with digits abcde... that has the following properties:\n",
    "- Its first digit a is not 0.\n",
    "- The number formed by its first two digits ab is a multiple of 2.\n",
    "- The number formed by its first three digits abc is a multiple of 3.\n",
    "- The number formed by its first four digits abcd is a multiple of 4.\n",
    "Create a function which takes an integer n and returns True if the given\n",
    "number is a Polydivisible Number and False otherwise.\n",
    "Examples\n",
    "is_polydivisible(1232) ➞ True\n",
    "# 1 / 1 = 1\n",
    "# 12 / 2 = 6\n",
    "# 123 / 3 = 41\n",
    "# 1232 / 4 = 308\n",
    "is_polydivisible(123220 ) ➞ False\n",
    "# 1 / 1 = 1\n",
    "# 12 / 2 = 6\n",
    "# 123 / 3 = 41\n",
    "# 1232 / 4 = 308\n",
    "# 12322 / 5 = 2464.4 # Not a Whole Number\n",
    "# 123220 /6 = 220536.333... # Not a Whole Number"
   ]
  },
  {
   "cell_type": "code",
   "execution_count": 195,
   "id": "7ecfff21",
   "metadata": {},
   "outputs": [
    {
     "name": "stdout",
     "output_type": "stream",
     "text": [
      "1.0\n",
      "6.0\n",
      "41.0\n",
      "308.0\n"
     ]
    },
    {
     "data": {
      "text/plain": [
       "False"
      ]
     },
     "execution_count": 195,
     "metadata": {},
     "output_type": "execute_result"
    }
   ],
   "source": [
    "def is_polydivisible(num):\n",
    "    \"\"\"This function which an integer n and returns True if the given\n",
    "    number is a Polydivisible Number and False otherwise\"\"\"\n",
    "    number = str(num)\n",
    "    for i in range(len(number)):\n",
    "        if (int(number[0:(i+1)])%(i+1))==0:\n",
    "            continue\n",
    "        else:\n",
    "            return False\n",
    "            break\n",
    "    return True\n",
    "\n",
    "is_polydivisible(123220)"
   ]
  },
  {
   "cell_type": "raw",
   "id": "2354b529",
   "metadata": {},
   "source": [
    "5. Create a function that takes a list of numbers and returns the sum of all\n",
    "prime numbers in the list.\n",
    "Examples\n",
    "sum_primes([1, 2, 3, 4, 5, 6, 7, 8, 9, 10]) ➞ 17\n",
    "sum_primes([2, 3, 4, 11, 20, 50, 71]) ➞ 87\n",
    "sum_primes([]) ➞ None"
   ]
  },
  {
   "cell_type": "code",
   "execution_count": 275,
   "id": "65a7517e",
   "metadata": {},
   "outputs": [
    {
     "data": {
      "text/plain": [
       "'None'"
      ]
     },
     "execution_count": 275,
     "metadata": {},
     "output_type": "execute_result"
    }
   ],
   "source": [
    "def isprime(n):\n",
    "\n",
    "    for i in range(2,n//2+1):\n",
    "        if n%i == 0:\n",
    "            return 0\n",
    "            break\n",
    "        else:\n",
    "            continue\n",
    "    return n\n",
    "\n",
    "def sum_primes(numbers):\n",
    "    sum_p=0\n",
    "    if bool(numbers):\n",
    "        for i in numbers: \n",
    "            if i>1:\n",
    "                a = isprime(i)\n",
    "                sum_p=sum_p+a\n",
    "                print(a)\n",
    "            else:\n",
    "                continue\n",
    "        return sum_p\n",
    "    else:\n",
    "        return \"None\"\n",
    "sum_primes([])"
   ]
  }
 ],
 "metadata": {
  "kernelspec": {
   "display_name": "Python 3 (ipykernel)",
   "language": "python",
   "name": "python3"
  },
  "language_info": {
   "codemirror_mode": {
    "name": "ipython",
    "version": 3
   },
   "file_extension": ".py",
   "mimetype": "text/x-python",
   "name": "python",
   "nbconvert_exporter": "python",
   "pygments_lexer": "ipython3",
   "version": "3.9.7"
  }
 },
 "nbformat": 4,
 "nbformat_minor": 5
}
