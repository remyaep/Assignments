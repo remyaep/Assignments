{
 "cells": [
  {
   "cell_type": "raw",
   "id": "15d9b018",
   "metadata": {},
   "source": [
    "Write an SQL query to print the FIRST_NAME from Worker table after replacing ‘a’ with ‘A’.\n",
    "\n",
    "select replace(FIRST_NAME,'a','A')as \"FIRST_NAME\" from Worker ;"
   ]
  },
  {
   "cell_type": "raw",
   "id": "b7b1ae90",
   "metadata": {},
   "source": [
    "Write an SQL query to print all Worker details from the Worker table order by FIRST_NAME Ascending and \n",
    "DEPARTMENT Descending.\n",
    "\n",
    "select * from Worker order by FIRST_NAME , DEPARTMENT desc;"
   ]
  },
  {
   "cell_type": "raw",
   "id": "cdc92bf4",
   "metadata": {},
   "source": [
    "Write an SQL query to fetch the names of workers who earn the highest salary.\n",
    "\n",
    "select * from Workers where salary in (select max(salary) from Workers);"
   ]
  }
 ],
 "metadata": {
  "kernelspec": {
   "display_name": "Python 3 (ipykernel)",
   "language": "python",
   "name": "python3"
  },
  "language_info": {
   "codemirror_mode": {
    "name": "ipython",
    "version": 3
   },
   "file_extension": ".py",
   "mimetype": "text/x-python",
   "name": "python",
   "nbconvert_exporter": "python",
   "pygments_lexer": "ipython3",
   "version": "3.9.7"
  }
 },
 "nbformat": 4,
 "nbformat_minor": 5
}
