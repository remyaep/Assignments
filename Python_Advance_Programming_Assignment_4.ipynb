{
 "cells": [
  {
   "cell_type": "raw",
   "id": "d4d2f746",
   "metadata": {},
   "source": [
    "1. In mathematics, the Fibonacci numbers, commonly denoted Fn, form a\n",
    "sequence, called the Fibonacci sequence, such that each number is the sum\n",
    "of the two preceding ones, starting from 0 and 1:\n",
    "\n",
    "The beginning of the sequence is this:\n",
    "0, 1, 1, 2, 3, 5, 8, 13, 21, 34, 55, 89, 144, ...\n",
    "The function fastFib(num) returns the fibonacci number Fn, of the given num\n",
    "as an argument.\n",
    "Examples\n",
    "fib_fast(5) ➞ 5\n",
    "fib_fast(10) ➞ 55\n",
    "fib_fast(20) ➞ 6765\n",
    "fib_fast(50) ➞ 12586269025"
   ]
  },
  {
   "cell_type": "code",
   "execution_count": 16,
   "id": "42b648de",
   "metadata": {},
   "outputs": [
    {
     "data": {
      "text/plain": [
       "12586269025"
      ]
     },
     "execution_count": 16,
     "metadata": {},
     "output_type": "execute_result"
    }
   ],
   "source": [
    "def fastFib(num):\n",
    "    \"\"\"The function fastFib(num) returns the fibonacci number Fn, of the given num\n",
    "    as an argument.\"\"\"\n",
    "    a=0\n",
    "    b=1\n",
    "    l=[a]\n",
    "    for i in range(num):\n",
    "        a,b=b,a+b\n",
    "        l.append(a)\n",
    "    return(l[num])\n",
    "\n",
    "fastFib(50)\n"
   ]
  },
  {
   "cell_type": "raw",
   "id": "6c6170b1",
   "metadata": {},
   "source": [
    "2. Create a function that takes a strings characters as ASCII and returns each\n",
    "characters hexadecimal value as a string.\n",
    "Examples\n",
    "convert_to_hex(\"hello world\") ➞ \"68 65 6c 6c 6f 20 77 6f 72 6c 64\"\n",
    "convert_to_hex(\"Big Boi\") ➞ \"42 69 67 20 42 6f 69\"\n",
    "convert_to_hex(\"Marty Poppinson\") ➞ \"4d 61 72 74 79 20 50 6f 70 70 69 6e\n",
    "73 6f 6e\""
   ]
  },
  {
   "cell_type": "code",
   "execution_count": 28,
   "id": "3a21342f",
   "metadata": {},
   "outputs": [
    {
     "data": {
      "text/plain": [
       "'4d 61 72 74 79 20 50 6f 70 70 69 6e 73 6f 6e'"
      ]
     },
     "execution_count": 28,
     "metadata": {},
     "output_type": "execute_result"
    }
   ],
   "source": [
    "def convert_to_hex(string):\n",
    "    \"\"\"This function takes a strings characters as ASCII and returns each\n",
    "    characters hexadecimal value as a string.\"\"\"\n",
    "    hex_str=\"\"\n",
    "    ascii_val = list(string.encode('ascii'))\n",
    "    for i in ascii_val:\n",
    "        hex_str = hex_str + ' ' + hex(i).lstrip('0x')\n",
    "        \n",
    "    return hex_str.strip()\n",
    "\n",
    "\n",
    "convert_to_hex(\"Marty Poppinson\")"
   ]
  },
  {
   "cell_type": "raw",
   "id": "22c679a5",
   "metadata": {},
   "source": [
    "3. Someone has attempted to censor my strings by replacing every vowel\n",
    "with a *, l*k* th*s. Luckily, I've been able to find the vowels that were\n",
    "removed.\n",
    "Given a censored string and a string of the censored vowels, return the\n",
    "original uncensored string.\n",
    "Example\n",
    "uncensor(\"Wh*r* d*d my v*w*ls g*?\", \"eeioeo\") ➞ \"Where did my vowels go?\"\n",
    "uncensor(\"abcd\", \"\") ➞ \"abcd\"\n",
    "uncensor(\"*PP*RC*S*\", \"UEAE\") ➞ \"UPPERCASE\""
   ]
  },
  {
   "cell_type": "code",
   "execution_count": 84,
   "id": "0cd537f4",
   "metadata": {},
   "outputs": [
    {
     "data": {
      "text/plain": [
       "'Where did my vowels go?'"
      ]
     },
     "execution_count": 84,
     "metadata": {},
     "output_type": "execute_result"
    }
   ],
   "source": [
    "def uncensor(string, vowels):\n",
    "    \"\"\"This function takes a censored string and a string of the censored vowels, return the\n",
    "    original uncensored string\"\"\"\n",
    "    \n",
    "    if vowels==\"\":\n",
    "        return string\n",
    "    else:\n",
    "        string=list(string)\n",
    "        j=0\n",
    "        \n",
    "        for i  in range(len(string)):\n",
    "            if string[i]=='*':\n",
    "                string[i]=vowels[j]\n",
    "                j+=1\n",
    "                output = \"\".join(string)\n",
    "            else:\n",
    "                continue\n",
    "                \n",
    "        output = \"\".join(string)\n",
    "        \n",
    "        return output\n",
    "\n",
    "\n",
    "uncensor(\"Wh*r* d*d my v*w*ls g*?\", \"eeioeo\")"
   ]
  },
  {
   "cell_type": "raw",
   "id": "867e67e6",
   "metadata": {},
   "source": [
    "4. Write a function that takes an IP address and returns the domain name\n",
    "using PTR DNS records.\n",
    "Example\n",
    "get_domain(\"8.8.8.8\") ➞ \"dns.google\"\n",
    "get_domain(\"8.8.4.4\") ➞ \"dns.google\""
   ]
  },
  {
   "cell_type": "code",
   "execution_count": 88,
   "id": "fa6dfe44",
   "metadata": {},
   "outputs": [
    {
     "data": {
      "text/plain": [
       "'dns.google'"
      ]
     },
     "execution_count": 88,
     "metadata": {},
     "output_type": "execute_result"
    }
   ],
   "source": [
    "import socket\n",
    "def get_domain(ip):\n",
    "    \"\"\"This function takes an IP address and returns the domain name\"\"\"\n",
    "    host = socket.gethostbyaddr(ip)\n",
    "    hostname= host[0]\n",
    "    return hostname\n",
    "\n",
    "get_domain(\"8.8.8.8\")"
   ]
  },
  {
   "cell_type": "raw",
   "id": "85354c1d",
   "metadata": {},
   "source": [
    "5. Create a function that takes an integer n and returns the factorial of\n",
    "factorials. See below examples for a better understanding:\n",
    "Examples\n",
    "fact_of_fact(4) ➞ 288\n",
    "# 4! * 3! * 2! * 1! = 288\n",
    "fact_of_fact(5) ➞ 34560\n",
    "fact_of_fact(6) ➞ 24883200"
   ]
  },
  {
   "cell_type": "code",
   "execution_count": 31,
   "id": "a68be1e6",
   "metadata": {},
   "outputs": [
    {
     "data": {
      "text/plain": [
       "34560"
      ]
     },
     "execution_count": 31,
     "metadata": {},
     "output_type": "execute_result"
    }
   ],
   "source": [
    "def fact_of_fact(n):\n",
    "    fact_o=1\n",
    "    for i in range(n,1,-1):\n",
    "        fact=i\n",
    "        for j in range(i,1,-1):\n",
    "            if j==1:\n",
    "                continue\n",
    "            else:\n",
    "                fact= fact*(j-1)\n",
    " \n",
    "        fact_o=fact_o*fact\n",
    "\n",
    "    return fact_o\n",
    "\n",
    "(fact_of_fact(5))"
   ]
  }
 ],
 "metadata": {
  "kernelspec": {
   "display_name": "Python 3 (ipykernel)",
   "language": "python",
   "name": "python3"
  },
  "language_info": {
   "codemirror_mode": {
    "name": "ipython",
    "version": 3
   },
   "file_extension": ".py",
   "mimetype": "text/x-python",
   "name": "python",
   "nbconvert_exporter": "python",
   "pygments_lexer": "ipython3",
   "version": "3.9.7"
  }
 },
 "nbformat": 4,
 "nbformat_minor": 5
}
