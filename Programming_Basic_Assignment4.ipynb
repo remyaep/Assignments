{
 "cells": [
  {
   "cell_type": "raw",
   "id": "8475a6f5",
   "metadata": {},
   "source": [
    "1. Write a Python Program to Find the Factorial of a Number?"
   ]
  },
  {
   "cell_type": "code",
   "execution_count": 21,
   "id": "21bd5acb",
   "metadata": {},
   "outputs": [
    {
     "name": "stdout",
     "output_type": "stream",
     "text": [
      "Enter the number to find the factorial : 10\n",
      "Factorial =  3628800\n"
     ]
    }
   ],
   "source": [
    "f=int(input(\"Enter the number to find the factorial : \"))\n",
    "fact = 1\n",
    "if f<0 : \n",
    "    print(\"Factorial of negative number is not possible\")\n",
    "elif f>0 :\n",
    "    for i in range(1,f+1) :\n",
    "        fact=fact*i\n",
    "    print(f'Factorial = ',fact)\n",
    "else:\n",
    "    print(f'Factorial = ',fact)"
   ]
  },
  {
   "cell_type": "raw",
   "id": "bbfb0c80",
   "metadata": {},
   "source": [
    "2. Write a Python Program to Display the multiplication Table?"
   ]
  },
  {
   "cell_type": "code",
   "execution_count": 29,
   "id": "ec7e4462",
   "metadata": {},
   "outputs": [
    {
     "name": "stdout",
     "output_type": "stream",
     "text": [
      "Enter the number for which you want to find the multiplication table : 4\n",
      "4 * 1 =  4\n",
      "4 * 2 =  8\n",
      "4 * 3 =  12\n",
      "4 * 4 =  16\n",
      "4 * 5 =  20\n",
      "4 * 6 =  24\n",
      "4 * 7 =  28\n",
      "4 * 8 =  32\n",
      "4 * 9 =  36\n",
      "4 * 10 =  40\n"
     ]
    }
   ],
   "source": [
    "mul = int(input(\"Enter the number for which you want to find the multiplication table : \"))\n",
    "for i in range(10) :\n",
    "    print(mul ,\"*\" ,i+1 ,\"= \",mul*(i+1))"
   ]
  },
  {
   "cell_type": "raw",
   "id": "5bc9698b",
   "metadata": {},
   "source": [
    "3. Write a Python Program to Print the Fibonacci sequence?"
   ]
  },
  {
   "cell_type": "code",
   "execution_count": 38,
   "id": "029be7eb",
   "metadata": {},
   "outputs": [
    {
     "name": "stdout",
     "output_type": "stream",
     "text": [
      "Enter the range of fibonacci series : 10\n",
      "[1, 1, 2, 3, 5, 8, 13, 21, 34, 55]\n"
     ]
    }
   ],
   "source": [
    "a=1\n",
    "b=1\n",
    "l=[1]\n",
    "rng = int(input(\"Enter the range of fibonacci series : \"))\n",
    "for i in range(rng-1) : \n",
    "    b=a+b\n",
    "    a,b=b,a\n",
    "    l.append(b)\n",
    "print(l)"
   ]
  },
  {
   "cell_type": "raw",
   "id": "3898543e",
   "metadata": {},
   "source": [
    "4. Write a Python Program to Check Armstrong Number?"
   ]
  },
  {
   "cell_type": "code",
   "execution_count": 56,
   "id": "afe502c4",
   "metadata": {},
   "outputs": [
    {
     "name": "stdout",
     "output_type": "stream",
     "text": [
      "Enter number to check Armstrong number or not : 407\n",
      "407 is an Armstrong number\n"
     ]
    }
   ],
   "source": [
    "n= input(\"Enter number to check Armstrong number or not : \")\n",
    "a=0\n",
    "for i in range(len(n)) : \n",
    "    a = a+(int(n[i])**3)\n",
    "if a==int(n):\n",
    "    print(n, \"is an Armstrong number\")\n",
    "else:\n",
    "    print(n, \"is not an Armstrong number\")"
   ]
  },
  {
   "cell_type": "raw",
   "id": "56fa8d10",
   "metadata": {},
   "source": [
    "5. Write a Python Program to Find Armstrong Number in an Interval?"
   ]
  },
  {
   "cell_type": "code",
   "execution_count": 90,
   "id": "ee9ad97f",
   "metadata": {},
   "outputs": [
    {
     "name": "stdout",
     "output_type": "stream",
     "text": [
      "Enter number to check Armstrong number or not : 406\n",
      "Enter number to check Armstrong number or not : 408\n",
      "list of all Armstrong number from 406 to 408 : [407]\n"
     ]
    }
   ],
   "source": [
    "start = input(\"Enter number to check Armstrong number or not : \")\n",
    "end = input(\"Enter number to check Armstrong number or not : \")\n",
    "l=[]\n",
    "for j in range(int(start),int(end)+1):\n",
    "    a=0\n",
    "    for i in range(len(str(j))):\n",
    "        a = a+int(str(j)[i])**3\n",
    "               \n",
    "    if a==j:\n",
    "        l.append(a)\n",
    "    \n",
    "print(\"list of all Armstrong number from\",start,\"to\" ,end, \":\",l)               "
   ]
  },
  {
   "cell_type": "raw",
   "id": "4276bf6d",
   "metadata": {},
   "source": [
    "6. Write a Python Program to Find the Sum of Natural Numbers?"
   ]
  },
  {
   "cell_type": "code",
   "execution_count": 93,
   "id": "a62072f0",
   "metadata": {},
   "outputs": [
    {
     "name": "stdout",
     "output_type": "stream",
     "text": [
      "Enter the number  : 5\n",
      "Sum of natural numbers starting from 1 to 5 = 15\n"
     ]
    }
   ],
   "source": [
    "n = int(input(\"Enter the number  : \"))\n",
    "sum=0\n",
    "for i in range(1,n+1):\n",
    "    sum=sum+i\n",
    "print(\"Sum of natural numbers starting from 1 to\",n, \"=\",sum)"
   ]
  }
 ],
 "metadata": {
  "kernelspec": {
   "display_name": "Python 3 (ipykernel)",
   "language": "python",
   "name": "python3"
  },
  "language_info": {
   "codemirror_mode": {
    "name": "ipython",
    "version": 3
   },
   "file_extension": ".py",
   "mimetype": "text/x-python",
   "name": "python",
   "nbconvert_exporter": "python",
   "pygments_lexer": "ipython3",
   "version": "3.9.7"
  }
 },
 "nbformat": 4,
 "nbformat_minor": 5
}
