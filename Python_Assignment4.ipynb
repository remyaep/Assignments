{
 "cells": [
  {
   "cell_type": "raw",
   "id": "2c30745f",
   "metadata": {},
   "source": [
    "1. What exactly is []?\n",
    "\n",
    "An empty list"
   ]
  },
  {
   "cell_type": "raw",
   "id": "ae5771ce",
   "metadata": {},
   "source": [
    "2. In a list of values stored in a variable called spam, how would you assign the value 'hello' as the\n",
    "third value? (Assume [2, 4, 6, 8, 10] are in spam.)"
   ]
  },
  {
   "cell_type": "code",
   "execution_count": 7,
   "id": "a480c434",
   "metadata": {},
   "outputs": [
    {
     "name": "stdout",
     "output_type": "stream",
     "text": [
      "[2, 4, 'hello', 6, 8, 10]\n"
     ]
    }
   ],
   "source": [
    "#Assuming the question is not to replace 6 with hello. Instead its asking to insert hello at third place\n",
    "\n",
    "spam=[2,4,6,8,10]\n",
    "spam.insert(2,\"hello\")\n",
    "print(spam)"
   ]
  },
  {
   "cell_type": "raw",
   "id": "f69330e2",
   "metadata": {},
   "source": [
    "Let's pretend the spam includes the list ['a', 'b', 'c', 'd'] for the next three queries.\n",
    "3. What is the value of spam[int(int(&#39;3&#39; * 2) / 11)]?"
   ]
  },
  {
   "cell_type": "code",
   "execution_count": 8,
   "id": "7445af65",
   "metadata": {},
   "outputs": [
    {
     "data": {
      "text/plain": [
       "'d'"
      ]
     },
     "execution_count": 8,
     "metadata": {},
     "output_type": "execute_result"
    }
   ],
   "source": [
    "spam=['a','b','c','d']\n",
    "spam[int(int('3' * 2) / 11)] #gives spam[3]"
   ]
  },
  {
   "cell_type": "raw",
   "id": "becd7dfc",
   "metadata": {},
   "source": [
    "4. What is the value of spam[-1]?\n",
    "\n",
    "The last element"
   ]
  },
  {
   "cell_type": "code",
   "execution_count": 9,
   "id": "34ad9eef",
   "metadata": {},
   "outputs": [
    {
     "data": {
      "text/plain": [
       "'d'"
      ]
     },
     "execution_count": 9,
     "metadata": {},
     "output_type": "execute_result"
    }
   ],
   "source": [
    "spam[-1]"
   ]
  },
  {
   "cell_type": "raw",
   "id": "63a38bc3",
   "metadata": {},
   "source": [
    "5. What is the value of spam[:2]?"
   ]
  },
  {
   "cell_type": "code",
   "execution_count": 10,
   "id": "c1f92f5a",
   "metadata": {},
   "outputs": [
    {
     "data": {
      "text/plain": [
       "['a', 'b']"
      ]
     },
     "execution_count": 10,
     "metadata": {},
     "output_type": "execute_result"
    }
   ],
   "source": [
    "spam[:2]"
   ]
  },
  {
   "cell_type": "raw",
   "id": "c01702e5",
   "metadata": {},
   "source": [
    "Let's pretend bacon has the list [3.14, 'cat', 11, 'cat', True] for the next three questions.\n",
    "6. What is the value of bacon.index('cat')?\n",
    "\n",
    "index=1. index function provides the index of the 1st match"
   ]
  },
  {
   "cell_type": "code",
   "execution_count": 14,
   "id": "3f763cbf",
   "metadata": {},
   "outputs": [
    {
     "data": {
      "text/plain": [
       "1"
      ]
     },
     "execution_count": 14,
     "metadata": {},
     "output_type": "execute_result"
    }
   ],
   "source": [
    "bacon=[3.14, 'cat', 11, 'cat', True]\n",
    "bacon.index('cat')"
   ]
  },
  {
   "cell_type": "raw",
   "id": "0d01d4b4",
   "metadata": {},
   "source": [
    "7. How does bacon.append(99) change the look of the list value in bacon?\n",
    "\n",
    "Appends the data as the last element"
   ]
  },
  {
   "cell_type": "code",
   "execution_count": 17,
   "id": "a755e677",
   "metadata": {},
   "outputs": [
    {
     "name": "stdout",
     "output_type": "stream",
     "text": [
      "[3.14, 'cat', 11, 'cat', True, 99]\n"
     ]
    }
   ],
   "source": [
    "bacon.append(99)\n",
    "print(bacon)"
   ]
  },
  {
   "cell_type": "raw",
   "id": "e5f59716",
   "metadata": {},
   "source": [
    "8. How does bacon.remove('cat') change the look of the list in bacon?\n",
    "\n",
    "Removes the first matching element"
   ]
  },
  {
   "cell_type": "code",
   "execution_count": 18,
   "id": "73c0d816",
   "metadata": {},
   "outputs": [
    {
     "name": "stdout",
     "output_type": "stream",
     "text": [
      "[3.14, 11, 'cat', True, 99]\n"
     ]
    }
   ],
   "source": [
    "bacon.remove('cat')\n",
    "print(bacon)"
   ]
  },
  {
   "cell_type": "raw",
   "id": "c763a3fd",
   "metadata": {},
   "source": [
    "9. What are the list concatenation and list replication operators?"
   ]
  },
  {
   "cell_type": "code",
   "execution_count": 19,
   "id": "c265dcb9",
   "metadata": {},
   "outputs": [
    {
     "data": {
      "text/plain": [
       "[1, 2, 3, 4, 5, 6]"
      ]
     },
     "execution_count": 19,
     "metadata": {},
     "output_type": "execute_result"
    }
   ],
   "source": [
    "#list concatenation example\n",
    "l1=[1,2,3]\n",
    "l2=[4,5,6]\n",
    "\n",
    "l1+l2 # concatenate the two list. ie; appends all the element of list 2 at the end of list1"
   ]
  },
  {
   "cell_type": "code",
   "execution_count": 21,
   "id": "6b97361e",
   "metadata": {},
   "outputs": [
    {
     "name": "stdout",
     "output_type": "stream",
     "text": [
      "[7, 8, 9]\n"
     ]
    }
   ],
   "source": [
    "#list replication\n",
    "l3=[7,8,9]\n",
    "l4=l3[::] ##replica of list 3 in list 4\n",
    "print(l4)"
   ]
  },
  {
   "cell_type": "raw",
   "id": "f7c2535a",
   "metadata": {},
   "source": [
    "10. What is difference between the list methods append() and insert()?\n",
    "\n",
    "Append adds data at the end of list whereas insert can add data at any location in the list. Eg:"
   ]
  },
  {
   "cell_type": "code",
   "execution_count": 24,
   "id": "0f4af2da",
   "metadata": {},
   "outputs": [
    {
     "name": "stdout",
     "output_type": "stream",
     "text": [
      "Append a :  [1, 2, 3, 4, 5]\n",
      "insert a :  [1, 2, 3, 'abc', 4, 5]\n"
     ]
    }
   ],
   "source": [
    "a=[1,2,3,4]\n",
    "a.append(5) #adding 5 at  the end of list\n",
    "print(\"Append a : \",a)\n",
    "a.insert(3,\"abc\") #adding abc at 4th position\n",
    "print(\"insert a : \",a)"
   ]
  },
  {
   "cell_type": "raw",
   "id": "50efbccb",
   "metadata": {},
   "source": [
    "11. What are the two methods for removing items from a list?\n",
    "\n",
    "pop and remove"
   ]
  },
  {
   "cell_type": "code",
   "execution_count": 27,
   "id": "3e87d6ec",
   "metadata": {},
   "outputs": [
    {
     "name": "stdout",
     "output_type": "stream",
     "text": [
      "list after pop :  [1, 2, 3, 4, 5, 6]\n",
      "Removed 4 from the list :  [1, 2, 3, 5, 6]\n"
     ]
    }
   ],
   "source": [
    "d=[1,2,3,4,5,6,7]\n",
    "d.pop() # removes the lat element from the list\n",
    "print(\"list after pop : \",d)\n",
    "d.remove(4) #removing value 4 from the list\n",
    "print(\"Removed 4 from the list : \",d)"
   ]
  },
  {
   "cell_type": "raw",
   "id": "3557765d",
   "metadata": {},
   "source": [
    "12. Describe how list values and string values are identical.\n",
    "\n",
    "Both list values and string values are iterable"
   ]
  },
  {
   "cell_type": "raw",
   "id": "89fffa0c",
   "metadata": {},
   "source": [
    "13. What's the difference between tuples and lists?\n",
    "\n",
    "Tuples are immutable wheres as list is not"
   ]
  },
  {
   "cell_type": "raw",
   "id": "473b8a01",
   "metadata": {},
   "source": [
    "14. How do you type a tuple value that only contains the integer 42?\n",
    "\n",
    "tup = (42,)"
   ]
  },
  {
   "cell_type": "code",
   "execution_count": 40,
   "id": "85460add",
   "metadata": {},
   "outputs": [
    {
     "data": {
      "text/plain": [
       "tuple"
      ]
     },
     "execution_count": 40,
     "metadata": {},
     "output_type": "execute_result"
    }
   ],
   "source": [
    "tup=(42,)\n",
    "type(tup)"
   ]
  },
  {
   "cell_type": "raw",
   "id": "2e17d7ae",
   "metadata": {},
   "source": [
    "15. How do you get a list value's tuple form? How do you get a tuple value's list form?"
   ]
  },
  {
   "cell_type": "code",
   "execution_count": 49,
   "id": "8b9441b3",
   "metadata": {},
   "outputs": [
    {
     "name": "stdout",
     "output_type": "stream",
     "text": [
      "[2, 3, 4, 5, 'dsds']\n",
      "(1, 2, 4, 5, 6, 7)\n"
     ]
    }
   ],
   "source": [
    "lst=[1,2,4,5,6,7]\n",
    "tupl = (2,3,4,5,\"dsds\")\n",
    "\n",
    "#create a blank list and tuple\n",
    "lst2=[]\n",
    "tupl2=()\n",
    "\n",
    "lst2=list(tupl) #converting tuple to list\n",
    "print(lst2)\n",
    "\n",
    "tupl2=tuple(lst)  #converting list to tuple\n",
    "print(tupl2)"
   ]
  },
  {
   "cell_type": "raw",
   "id": "0d9b25d3",
   "metadata": {},
   "source": [
    "16. Variables that 'contain' list values are not necessarily lists themselves. Instead, what do they\n",
    "contain?\n",
    "\n",
    "Variables will contain references to list values rather than list values themselves."
   ]
  },
  {
   "cell_type": "raw",
   "id": "15814d8a",
   "metadata": {},
   "source": [
    "17. How do you distinguish between copy.copy() and copy.deepcopy()?\n",
    "\n",
    "copy.copy() : The new variable will have reference of the original data. Hence any change in the original data will affect the new variable as well.\n",
    "\n",
    "copy.deepcopy() : The new variable will have copy of original data without the reference of the original data. Hence any change in the original data will not affect the new variable."
   ]
  }
 ],
 "metadata": {
  "kernelspec": {
   "display_name": "Python 3 (ipykernel)",
   "language": "python",
   "name": "python3"
  },
  "language_info": {
   "codemirror_mode": {
    "name": "ipython",
    "version": 3
   },
   "file_extension": ".py",
   "mimetype": "text/x-python",
   "name": "python",
   "nbconvert_exporter": "python",
   "pygments_lexer": "ipython3",
   "version": "3.9.7"
  }
 },
 "nbformat": 4,
 "nbformat_minor": 5
}
