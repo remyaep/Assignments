{
 "cells": [
  {
   "cell_type": "raw",
   "id": "5f6cbdda",
   "metadata": {},
   "source": [
    "1. Given a sentence as txt, return True if any two adjacent words have this\n",
    "property: One word ends with a vowel, while the word immediately after\n",
    "begins with a vowel (a e i o u).\n",
    "Examples\n",
    "vowel_links(\"a very large appliance\") ➞ True\n",
    "vowel_links(\"go to edabit\") ➞ True\n",
    "vowel_links(\"an open fire\") ➞ False\n",
    "vowel_links(\"a sudden applause\") ➞ False"
   ]
  },
  {
   "cell_type": "code",
   "execution_count": 19,
   "id": "5e598f10",
   "metadata": {},
   "outputs": [
    {
     "name": "stdout",
     "output_type": "stream",
     "text": [
      "['a', 'very', 'large', 'appliance']\n"
     ]
    },
    {
     "data": {
      "text/plain": [
       "True"
      ]
     },
     "execution_count": 19,
     "metadata": {},
     "output_type": "execute_result"
    }
   ],
   "source": [
    "def vowel_links(string):\n",
    "    \"\"\"This return True if any two adjacent words have this\n",
    "    property: One word ends with a vowel, while the word immediately after\n",
    "    begins with a vowel (a e i o u)\"\"\"\n",
    "    \n",
    "    flag=False\n",
    "    vowels=['a','e','i','o','u']\n",
    "    split_string = string.split()\n",
    "    \n",
    "    for i in range(len(split_string)-1):\n",
    "        if split_string[i][-1] in  vowels and split_string[i+1][0] in vowels :\n",
    "            flag=True\n",
    "        else:\n",
    "            continue\n",
    "    return flag\n",
    "\n",
    "vowel_links(\"a very large appliance\")"
   ]
  },
  {
   "cell_type": "raw",
   "id": "a739952b",
   "metadata": {},
   "source": [
    "2. You are given three inputs: a string, one letter, and a second letter.\n",
    "Write a function that returns True if every instance of the first letter occurs\n",
    "before every instance of the second letter.\n",
    "Examples\n",
    "first_before_second(\"a rabbit jumps joyfully\", \"a\", \"j\") ➞ True\n",
    "# Every instance of \"a\" occurs before every instance of \"j\".\n",
    "first_before_second(\"knaves knew about waterfalls\", \"k\", \"w\") ➞ True\n",
    "first_before_second(\"happy birthday\", \"a\", \"y\") ➞ False\n",
    "# The \"a\" in \"birthday\" occurs after the \"y\" in \"happy\".\n",
    "first_before_second(\"precarious kangaroos\", \"k\", \"a\") ➞ False"
   ]
  },
  {
   "cell_type": "code",
   "execution_count": 28,
   "id": "c3984a85",
   "metadata": {},
   "outputs": [
    {
     "data": {
      "text/plain": [
       "False"
      ]
     },
     "execution_count": 28,
     "metadata": {},
     "output_type": "execute_result"
    }
   ],
   "source": [
    "import re\n",
    "def first_before_second(string, first, second):\n",
    "    \"\"\"This function returns True if every instance of the first letter occurs\n",
    "    before every instance of the second letter\"\"\"\n",
    "    \n",
    "    flag=True\n",
    "    \n",
    "    indices_1 = [i.start() for i in re.finditer(first, string)]\n",
    "    indices_2 = [i.start() for i in re.finditer(second, string)]\n",
    "\n",
    "    for i in indices_1:\n",
    "        for j in indices_2:\n",
    "            if i>j:\n",
    "                flag=False\n",
    "            \n",
    "    return flag\n",
    "\n",
    "first_before_second(\"precarious kangaroos\", \"k\", \"a\")"
   ]
  },
  {
   "cell_type": "raw",
   "id": "85dba8e6",
   "metadata": {},
   "source": [
    "3. Create a function that returns the characters from a list or string r on odd or\n",
    "even positions, depending on the specifier s. The specifier will be \"odd\" for\n",
    "items on odd positions (1, 3, 5, ...) and \"even\" for items on even positions (2,\n",
    "4, 6, ...).\n",
    "Examples\n",
    "char_at_pos([2, 4, 6, 8, 10], \"even\") ➞ [4, 8]\n",
    "# 4 & 8 occupy the 2nd & 4th positions\n",
    "char_at_pos(\"EDABIT\", \"odd\") ➞ \"EAI\"\n",
    "# \"E\", \"A\" and \"I\" occupy the 1st, 3rd and 5th positions\n",
    "\n",
    "char_at_pos([\"A\", \"R\", \"B\", \"I\", \"T\", \"R\", \"A\", \"R\", \"I\", \"L\", \"Y\"], \"odd\") ➞ [\"A\",\n",
    "\"B\", \"T\", \"A\", \"I\", \"Y\"]\n"
   ]
  },
  {
   "cell_type": "code",
   "execution_count": 44,
   "id": "2fb6dcfc",
   "metadata": {},
   "outputs": [
    {
     "data": {
      "text/plain": [
       "['A', 'B', 'T', 'A', 'I', 'Y']"
      ]
     },
     "execution_count": 44,
     "metadata": {},
     "output_type": "execute_result"
    }
   ],
   "source": [
    "def char_at_pos(x, pos):\n",
    "    \"\"\"This function returns the characters at teh even or odd position \"\"\"\n",
    "    \n",
    "    if pos==\"even\":\n",
    "        return x[1::2]\n",
    "    if pos==\"odd\":\n",
    "        return x[0::2]\n",
    "    \n",
    "char_at_pos([\"A\", \"R\", \"B\", \"I\", \"T\", \"R\", \"A\", \"R\", \"I\", \"L\", \"Y\"], \"odd\")"
   ]
  },
  {
   "cell_type": "raw",
   "id": "57191e5d",
   "metadata": {},
   "source": [
    "4. Write a function that returns the greatest common divisor of all list\n",
    "elements. If the greatest common divisor is 1, return 1.\n",
    "Examples\n",
    "GCD([10, 20, 40]) ➞ 10\n",
    "GCD([1, 2, 3, 100]) ➞ 1\n",
    "GCD([1024, 192, 2048, 512]) ➞ 64"
   ]
  },
  {
   "cell_type": "code",
   "execution_count": 105,
   "id": "b9ac26da",
   "metadata": {},
   "outputs": [
    {
     "data": {
      "text/plain": [
       "10"
      ]
     },
     "execution_count": 105,
     "metadata": {},
     "output_type": "execute_result"
    }
   ],
   "source": [
    "def get_gcd(a,b):\n",
    "    \"\"\"This sfunction returns the gcd of the 1st 2 numbers from the list\"\"\"\n",
    "    \n",
    "    if b==0:\n",
    "        return a\n",
    "    else:\n",
    "        return get_gcd(b,a%b)\n",
    "\n",
    "def GCD(*args):\n",
    "    \"\"\"This function returns the gcd of all the numbers in the list passed\"\"\"\n",
    "    \n",
    "    gcd=0\n",
    "    lst=args[0]\n",
    "    \n",
    "    for i in range(len(lst)-1):\n",
    "        gcd= get_gcd(gcd,lst[i])\n",
    "    \n",
    "    return gcd\n",
    "\n",
    "GCD([10,20,40])"
   ]
  },
  {
   "cell_type": "code",
   "execution_count": 87,
   "id": "66ff68ae",
   "metadata": {},
   "outputs": [
    {
     "data": {
      "text/plain": [
       "0"
      ]
     },
     "execution_count": 87,
     "metadata": {},
     "output_type": "execute_result"
    }
   ],
   "source": [
    "20%10"
   ]
  },
  {
   "cell_type": "raw",
   "id": "929991e5",
   "metadata": {},
   "source": [
    "5. A number/string is a palindrome if the digits/characters are the same when\n",
    "read both forward and backward. Examples include \"racecar\" and 12321.\n",
    "Given a positive number n, check if n or the binary representation of n is\n",
    "palindromic. Return the following:\n",
    "- \"Decimal only.\" if only n is a palindrome.\n",
    "- \"Binary only.\" if only the binary representation of n is a palindrome.\n",
    "- \"Decimal and binary.\" if both are palindromes.\n",
    "- \"Neither!\" if neither are palindromes.\n",
    "Examples\n",
    "palindrome_type(1306031) ➞ \"Decimal only.\"\n",
    "# decimal = 1306031\n",
    "# binary = \"100111110110110101111\"\n",
    "palindrome_type(427787) ➞ \"Binary only.\"\n",
    "# decimal = 427787\n",
    "# binary = \"1101000011100001011\"\n",
    "palindrome_type(313) ➞ \"Decimal and binary.\"\n",
    "# decimal = 313\n",
    "# binary = 100111001\n",
    "palindrome_type(934) ➞ \"Neither!\"\n",
    "# decimal = 934\n",
    "# binary = \"1110100110\""
   ]
  },
  {
   "cell_type": "code",
   "execution_count": 77,
   "id": "86325aad",
   "metadata": {},
   "outputs": [
    {
     "data": {
      "text/plain": [
       "'Neither!'"
      ]
     },
     "execution_count": 77,
     "metadata": {},
     "output_type": "execute_result"
    }
   ],
   "source": [
    "def palindrome_type(n):\n",
    "    \"\"\"This function says the number and its binary is palindrome or not \"\"\"\n",
    "    \n",
    "    bin_n = bin(n).lstrip('0b')\n",
    "    n=str(n)\n",
    "    bin_n = str(bin_n)\n",
    "    \n",
    "    if n==n[::-1]:\n",
    "        if bin_n==bin_n[::-1]:\n",
    "            return \"Decimal and binary.\"\n",
    "        else:\n",
    "            return \"Decimal only.\"\n",
    "    else:\n",
    "        if bin_n==bin_n[::-1]:\n",
    "            return \"Binary only.\"\n",
    "        else:\n",
    "            return \"Neither!\"\n",
    "    \n",
    "    \n",
    "palindrome_type(934)"
   ]
  }
 ],
 "metadata": {
  "kernelspec": {
   "display_name": "Python 3 (ipykernel)",
   "language": "python",
   "name": "python3"
  },
  "language_info": {
   "codemirror_mode": {
    "name": "ipython",
    "version": 3
   },
   "file_extension": ".py",
   "mimetype": "text/x-python",
   "name": "python",
   "nbconvert_exporter": "python",
   "pygments_lexer": "ipython3",
   "version": "3.9.7"
  }
 },
 "nbformat": 4,
 "nbformat_minor": 5
}
