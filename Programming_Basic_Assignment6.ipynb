{
 "cells": [
  {
   "cell_type": "raw",
   "id": "a4aa916e",
   "metadata": {},
   "source": [
    "1. Write a Python Program to Display Fibonacci Sequence Using Recursion?"
   ]
  },
  {
   "cell_type": "code",
   "execution_count": 15,
   "id": "e7fb8e58",
   "metadata": {},
   "outputs": [
    {
     "name": "stdout",
     "output_type": "stream",
     "text": [
      "enter the number of fibonacci series to be displayed10\n",
      "1\n",
      "1\n",
      "2\n",
      "3\n",
      "5\n",
      "8\n",
      "13\n",
      "21\n",
      "34\n",
      "55\n"
     ]
    }
   ],
   "source": [
    "b = 1\n",
    "a = 1\n",
    "def fibonacci(n,a,b):\n",
    "    \"\"\"This function displays the fibonacci series upto n numbers\"\"\"\n",
    "    print(a)\n",
    "    if n>0:\n",
    "        a,b = b,a+b\n",
    "        fibonacci(n-1,a,b)\n",
    "           \n",
    "n = int(input(\"enter the number of fibonacci series to be displayed\"))\n",
    "fibonacci(n-1,a,b)"
   ]
  },
  {
   "cell_type": "raw",
   "id": "0d0849f2",
   "metadata": {},
   "source": [
    "2. Write a Python Program to Find Factorial of Number Using Recursion?"
   ]
  },
  {
   "cell_type": "code",
   "execution_count": 24,
   "id": "ff70055c",
   "metadata": {},
   "outputs": [
    {
     "name": "stdout",
     "output_type": "stream",
     "text": [
      "Enter the number to find the factorial : 6\n"
     ]
    },
    {
     "data": {
      "text/plain": [
       "720"
      ]
     },
     "execution_count": 24,
     "metadata": {},
     "output_type": "execute_result"
    }
   ],
   "source": [
    "fac = 1\n",
    "def factorial(n):\n",
    "    \"\"\"This function finds the factorial of given number\"\"\"\n",
    "    fac=1\n",
    "    if n>0:\n",
    "        fac = n*factorial(n-1)\n",
    "    return fac\n",
    "\n",
    "n=int(input(\"Enter the number to find the factorial : \"))\n",
    "factorial(n)"
   ]
  },
  {
   "cell_type": "raw",
   "id": "629a44d3",
   "metadata": {},
   "source": [
    "3. Write a Python Program to calculate your Body Mass Index?"
   ]
  },
  {
   "cell_type": "code",
   "execution_count": 28,
   "id": "79059954",
   "metadata": {},
   "outputs": [
    {
     "name": "stdout",
     "output_type": "stream",
     "text": [
      "Enter your weight in kg: 57\n",
      "Enter your height in cm: 155\n",
      "your BMI is  23.725286160249738\n"
     ]
    }
   ],
   "source": [
    "weight = float(input(\"Enter your weight in kg: \"))\n",
    "height = float(input(\"Enter your height in cm: \"))\n",
    "BMI = weight / (height/100)**2\n",
    "print(\"your BMI is \",BMI)                    "
   ]
  },
  {
   "cell_type": "raw",
   "id": "e7e68070",
   "metadata": {},
   "source": [
    "4. Write a Python Program to calculate the natural logarithm of any number?"
   ]
  },
  {
   "cell_type": "code",
   "execution_count": 30,
   "id": "d17ce0a6",
   "metadata": {},
   "outputs": [
    {
     "name": "stdout",
     "output_type": "stream",
     "text": [
      "Enter the number to find the log : 15\n",
      "Logarithmic value of  15 is =  2.70805020110221\n"
     ]
    }
   ],
   "source": [
    "import numpy as np\n",
    "n=int(input(\"Enter the number to find the log : \"))\n",
    "logn = np.log(n)\n",
    "print(\"Logarithmic value of \",n,\"is = \",logn)"
   ]
  },
  {
   "cell_type": "raw",
   "id": "0e043ca4",
   "metadata": {},
   "source": [
    "5. Write a Python Program for cube sum of first n natural numbers?"
   ]
  },
  {
   "cell_type": "code",
   "execution_count": 34,
   "id": "65e59b4d",
   "metadata": {},
   "outputs": [
    {
     "name": "stdout",
     "output_type": "stream",
     "text": [
      "Enter the number of natural numbers to be cubed : 3\n"
     ]
    },
    {
     "data": {
      "text/plain": [
       "36"
      ]
     },
     "execution_count": 34,
     "metadata": {},
     "output_type": "execute_result"
    }
   ],
   "source": [
    "n=int(input(\"Enter the number of natural numbers to be cubed : \"))\n",
    "def cubesum(n):\n",
    "    \"\"\"This function finds the sum of cube of n natural numbers\"\"\"\n",
    "    cube = 0\n",
    "    for i in range(1,n+1):\n",
    "        cube= cube + i**3\n",
    "    return cube\n",
    "\n",
    "cubesum(n)"
   ]
  },
  {
   "cell_type": "code",
   "execution_count": null,
   "id": "95375015",
   "metadata": {},
   "outputs": [],
   "source": []
  }
 ],
 "metadata": {
  "kernelspec": {
   "display_name": "Python 3 (ipykernel)",
   "language": "python",
   "name": "python3"
  },
  "language_info": {
   "codemirror_mode": {
    "name": "ipython",
    "version": 3
   },
   "file_extension": ".py",
   "mimetype": "text/x-python",
   "name": "python",
   "nbconvert_exporter": "python",
   "pygments_lexer": "ipython3",
   "version": "3.9.7"
  }
 },
 "nbformat": 4,
 "nbformat_minor": 5
}
