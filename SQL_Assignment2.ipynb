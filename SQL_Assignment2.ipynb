{
 "cells": [
  {
   "cell_type": "raw",
   "id": "f19fdec3",
   "metadata": {},
   "source": [
    "Write an SQL query to print the first three characters of  FIRST_NAME from Worker\n",
    "table.\n",
    "\n",
    "select substr(FIRST_NAME,1,3) from Worker"
   ]
  },
  {
   "cell_type": "raw",
   "id": "b989eed1",
   "metadata": {},
   "source": [
    "Write an SQL query to find the position of the alphabet (‘a’) in the first name\n",
    "column ‘Amitabh’ from Worker table.\n",
    " \n",
    "select position('a' in FIRST_NAME) from Worker"
   ]
  },
  {
   "cell_type": "raw",
   "id": "70cb1bec",
   "metadata": {},
   "source": [
    "Write an SQL query to print the name of employees having the highest salary in each\n",
    "department.\n",
    "\n",
    "select FIRST_NAME from Worker where salary in (select max(Salary) from Worker)"
   ]
  }
 ],
 "metadata": {
  "kernelspec": {
   "display_name": "Python 3 (ipykernel)",
   "language": "python",
   "name": "python3"
  },
  "language_info": {
   "codemirror_mode": {
    "name": "ipython",
    "version": 3
   },
   "file_extension": ".py",
   "mimetype": "text/x-python",
   "name": "python",
   "nbconvert_exporter": "python",
   "pygments_lexer": "ipython3",
   "version": "3.9.7"
  }
 },
 "nbformat": 4,
 "nbformat_minor": 5
}
