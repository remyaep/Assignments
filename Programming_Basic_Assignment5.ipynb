{
 "cells": [
  {
   "cell_type": "raw",
   "id": "2bdf0df1",
   "metadata": {},
   "source": [
    "1. Write a Python Program to Find LCM?"
   ]
  },
  {
   "cell_type": "code",
   "execution_count": 17,
   "id": "0acbafe8",
   "metadata": {},
   "outputs": [
    {
     "name": "stdout",
     "output_type": "stream",
     "text": [
      "Enter the first number to find the LCM : 300\n",
      "Enter the second number to find the LCM : 400\n",
      "LCM =  1200\n"
     ]
    }
   ],
   "source": [
    "def LCM(x,y):\n",
    "    \"\"\"This function will find the LCM of given number\"\"\"\n",
    "    g = max(x,y)\n",
    "    while(True):\n",
    "        if (g%x==0) and (g%y==0):\n",
    "            break\n",
    "        g+=1\n",
    "    return g    \n",
    "\n",
    "x = int(input(\"Enter the first number to find the LCM : \"))\n",
    "y = int(input(\"Enter the second number to find the LCM : \"))\n",
    "\n",
    "LCM = LCM(x,y)\n",
    "print(\"LCM = \", LCM)"
   ]
  },
  {
   "cell_type": "raw",
   "id": "60526069",
   "metadata": {},
   "source": [
    "2. Write a Python Program to Find HCF?"
   ]
  },
  {
   "cell_type": "code",
   "execution_count": 25,
   "id": "38dd6305",
   "metadata": {},
   "outputs": [
    {
     "name": "stdout",
     "output_type": "stream",
     "text": [
      "Enter the first number to find the HCF : 6\n",
      "Enter the second number to find the HCF : 8\n",
      "HCF =  2\n"
     ]
    }
   ],
   "source": [
    "def HCF(x,y):\n",
    "    \"\"\"This function will find the HCF of given number\"\"\"\n",
    "    s = min(x,y)\n",
    "    while(True):\n",
    "        if (x%s==0) and (y%s==0):\n",
    "            break\n",
    "        s-=1\n",
    "    return s\n",
    "    \n",
    "\n",
    "x = int(input(\"Enter the first number to find the HCF : \"))\n",
    "y = int(input(\"Enter the second number to find the HCF : \"))\n",
    "\n",
    "HCF = HCF(x,y)\n",
    "print(\"HCF = \", HCF)"
   ]
  },
  {
   "cell_type": "raw",
   "id": "ebd0cda8",
   "metadata": {},
   "source": [
    "3. Write a Python Program to Convert Decimal to Binary, Octal and Hexadecimal?"
   ]
  },
  {
   "cell_type": "code",
   "execution_count": 18,
   "id": "7607e0e0",
   "metadata": {},
   "outputs": [
    {
     "name": "stdout",
     "output_type": "stream",
     "text": [
      "The decimal value of 20 is:\n",
      "0b10100 in binary.\n",
      "0o24 in octal.\n",
      "0x14 in hexadecimal.\n"
     ]
    }
   ],
   "source": [
    "decimal = 20\n",
    "\n",
    "print(\"The decimal value of\", decimal, \"is:\")\n",
    "print(bin(decimal), \"in binary.\")\n",
    "print(oct(decimal), \"in octal.\")\n",
    "print(hex(decimal), \"in hexadecimal.\")"
   ]
  },
  {
   "cell_type": "raw",
   "id": "6a869931",
   "metadata": {},
   "source": [
    "4. Write a Python Program To Find ASCII value of a character?"
   ]
  },
  {
   "cell_type": "code",
   "execution_count": 22,
   "id": "71f92e19",
   "metadata": {},
   "outputs": [
    {
     "name": "stdout",
     "output_type": "stream",
     "text": [
      "The ASCII value of 'G' is 71\n"
     ]
    }
   ],
   "source": [
    "char = \"G\"\n",
    "print(\"The ASCII value of '\" + char + \"' is\", ord(char))"
   ]
  },
  {
   "cell_type": "raw",
   "id": "47690636",
   "metadata": {},
   "source": [
    "5. Write a Python Program to Make a Simple Calculator with 4 basic mathematical operations?"
   ]
  },
  {
   "cell_type": "code",
   "execution_count": 54,
   "id": "ef8bc656",
   "metadata": {},
   "outputs": [
    {
     "name": "stdout",
     "output_type": "stream",
     "text": [
      "Enter the first number  :65\n",
      "Enter the second number  :2\n",
      "enter number against the operation to perform \n",
      " 1.Add \n",
      " 2.Subtract \n",
      " 3.Multiply \n",
      " 4.Divide \n",
      "4\n"
     ]
    },
    {
     "data": {
      "text/plain": [
       "32.5"
      ]
     },
     "execution_count": 54,
     "metadata": {},
     "output_type": "execute_result"
    }
   ],
   "source": [
    "def add(a,b):\n",
    "    return a+b\n",
    "def sub(a,b):\n",
    "    return a-b\n",
    "def mul(a,b):\n",
    "    return a*b\n",
    "def div(a,b):\n",
    "    return a/b\n",
    "\n",
    "a = int(input(\"Enter the first number  :\"))\n",
    "b = int(input(\"Enter the second number  :\"))\n",
    "\n",
    "d={\"1\":add(a,b),\"2\":sub(a,b),\"3\":mul(a,b),\"4\":div(a,b)}\n",
    "list(d.values())[(int(input(\"enter number against the operation to perform \\n 1.Add \\n 2.Subtract \\n 3.Multiply \\n 4.Divide \\n\")))-1]\n",
    "#i = int(input(\"enter\"))\n",
    "#l[i-1]\n",
    "#print(\"Sum is \",d.values[\"0\"])"
   ]
  },
  {
   "cell_type": "code",
   "execution_count": null,
   "id": "8b620ae0",
   "metadata": {},
   "outputs": [],
   "source": []
  }
 ],
 "metadata": {
  "kernelspec": {
   "display_name": "Python 3 (ipykernel)",
   "language": "python",
   "name": "python3"
  },
  "language_info": {
   "codemirror_mode": {
    "name": "ipython",
    "version": 3
   },
   "file_extension": ".py",
   "mimetype": "text/x-python",
   "name": "python",
   "nbconvert_exporter": "python",
   "pygments_lexer": "ipython3",
   "version": "3.9.7"
  }
 },
 "nbformat": 4,
 "nbformat_minor": 5
}
