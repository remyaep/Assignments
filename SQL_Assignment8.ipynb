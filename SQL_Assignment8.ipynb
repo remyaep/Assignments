{
 "cells": [
  {
   "cell_type": "raw",
   "id": "32aaaa66",
   "metadata": {},
   "source": [
    "Write an SQL query to fetch intersecting records of two tables.\n",
    "\n",
    "select * from \n",
    "TABLE1 a inner join TABLE2 b\n",
    "on a.id =b.id"
   ]
  },
  {
   "cell_type": "raw",
   "id": "c7464997",
   "metadata": {},
   "source": [
    "Write an SQL query to show records from one table that another table does not have.\n",
    "\n",
    "select * from \n",
    "TABLE1 a left join TABLE2 b \n",
    "on a.id = b.id\n",
    "where b.id is null\n",
    "\n"
   ]
  }
 ],
 "metadata": {
  "kernelspec": {
   "display_name": "Python 3 (ipykernel)",
   "language": "python",
   "name": "python3"
  },
  "language_info": {
   "codemirror_mode": {
    "name": "ipython",
    "version": 3
   },
   "file_extension": ".py",
   "mimetype": "text/x-python",
   "name": "python",
   "nbconvert_exporter": "python",
   "pygments_lexer": "ipython3",
   "version": "3.9.12"
  }
 },
 "nbformat": 4,
 "nbformat_minor": 5
}
