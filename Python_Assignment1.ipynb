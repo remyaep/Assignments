{
 "cells": [
  {
   "cell_type": "raw",
   "id": "b6bc848b",
   "metadata": {},
   "source": [
    "# 1. In the below elements which of them are values or an expression? eg:- values can be integer or string and expressions will be mathematical operators.\n",
    "* \n",
    "'hello'\n",
    "-87.8\n",
    "- \n",
    "/ \n",
    "+\n",
    "6 \n",
    "\n",
    "\n",
    "----------------\n",
    "\n",
    "*  ==> expression\n",
    "'hello' ==> value\n",
    "-87.8 ==> value\n",
    "- ==> expression\n",
    "/ ==> expression\n",
    "+ ==> expression\n",
    "6 ==> value"
   ]
  },
  {
   "cell_type": "raw",
   "id": "453d663d",
   "metadata": {},
   "source": [
    "# 2. What is the difference between string and variable?\n",
    "\n",
    "\n",
    "--------------\n",
    "String - Is a specific datatype. Eg: \"abcdef\" , \"I am working\"\n",
    "Variable - Is a reference point where the values will be stored in RAM. Eg: a = 10. Here a is a variable."
   ]
  },
  {
   "cell_type": "raw",
   "id": "7198fcfc",
   "metadata": {},
   "source": [
    "# 3. Describe three different data types.\n",
    "\n",
    "------------\n",
    "\n",
    "int -  any integer values. eg: 1, 2\n",
    "str - can be a character or a complete sentence. eg : \"a\" or \"abc\"\n",
    "float - any decimal values eg: 2.3\n",
    "complex - data containing and imaginary part eg : 4+5j\n"
   ]
  },
  {
   "cell_type": "raw",
   "id": "d91f76a6",
   "metadata": {},
   "source": [
    "# 4. What is an expression made up of? What do all expressions do?\n",
    "\n",
    "----------\n",
    "\n",
    "An expression contains different operators and variables and values. Expression can either assign a value or perform different operations\n",
    "\n",
    "Eg :\n",
    "b=2+3\n",
    "c=\"abc\"*3\n"
   ]
  },
  {
   "cell_type": "raw",
   "id": "779b7de9",
   "metadata": {},
   "source": [
    "# 5. This assignment statements, like spam = 10. What is the difference between an expression and a statement\n",
    "\n",
    "Expression perform different operations. Whereas statement just perform some action which doesn't involes and mathematical operations.\n",
    " Eg: Expression ==> a= 5+2\n",
    " Statement ==> print(\"Hello World\")\n"
   ]
  },
  {
   "cell_type": "raw",
   "id": "1cbe783b",
   "metadata": {},
   "source": [
    "# 6. After running the following code, what does the variable bacon contain?\n",
    "bacon = 22\n",
    "bacon + 1"
   ]
  },
  {
   "cell_type": "code",
   "execution_count": 1,
   "id": "3eb61845",
   "metadata": {},
   "outputs": [],
   "source": [
    "bacon=22"
   ]
  },
  {
   "cell_type": "code",
   "execution_count": 2,
   "id": "8f67e1bd",
   "metadata": {},
   "outputs": [
    {
     "data": {
      "text/plain": [
       "23"
      ]
     },
     "execution_count": 2,
     "metadata": {},
     "output_type": "execute_result"
    }
   ],
   "source": [
    "bacon+1"
   ]
  },
  {
   "cell_type": "code",
   "execution_count": 3,
   "id": "36949ce4",
   "metadata": {},
   "outputs": [
    {
     "data": {
      "text/plain": [
       "22"
      ]
     },
     "execution_count": 3,
     "metadata": {},
     "output_type": "execute_result"
    }
   ],
   "source": [
    "bacon"
   ]
  },
  {
   "cell_type": "raw",
   "id": "b7335fc8",
   "metadata": {},
   "source": [
    "# bacon contains 22"
   ]
  },
  {
   "cell_type": "raw",
   "id": "e6b85448",
   "metadata": {},
   "source": [
    "# 7. What should the values of the following two terms be?"
   ]
  },
  {
   "cell_type": "code",
   "execution_count": 4,
   "id": "8a0f8680",
   "metadata": {},
   "outputs": [
    {
     "data": {
      "text/plain": [
       "'spamspamspam'"
      ]
     },
     "execution_count": 4,
     "metadata": {},
     "output_type": "execute_result"
    }
   ],
   "source": [
    "'spam' + 'spamspam'"
   ]
  },
  {
   "cell_type": "code",
   "execution_count": 5,
   "id": "3fdb40dc",
   "metadata": {},
   "outputs": [
    {
     "data": {
      "text/plain": [
       "'spamspamspam'"
      ]
     },
     "execution_count": 5,
     "metadata": {},
     "output_type": "execute_result"
    }
   ],
   "source": [
    "'spam' * 3"
   ]
  },
  {
   "cell_type": "raw",
   "id": "4ddf5cd1",
   "metadata": {},
   "source": [
    "# 8. Why is eggs a valid variable name while 100 is invalid?\n",
    "\n",
    "Variable name with alpahabets alone is a valid name. But a variable name with numbers alone is invalid"
   ]
  },
  {
   "cell_type": "raw",
   "id": "4f2f98c3",
   "metadata": {},
   "source": [
    "# 9. What three functions can be used to get the integer, floating-point number, or string version of a value?\n",
    "\n",
    "int()\n",
    "float()\n",
    "str()"
   ]
  },
  {
   "cell_type": "raw",
   "id": "dbd6a06d",
   "metadata": {},
   "source": [
    "# 10. Why does this expression cause an error? How can you fix it?"
   ]
  },
  {
   "cell_type": "code",
   "execution_count": 6,
   "id": "1d8ad4d1",
   "metadata": {},
   "outputs": [
    {
     "ename": "TypeError",
     "evalue": "can only concatenate str (not \"int\") to str",
     "output_type": "error",
     "traceback": [
      "\u001b[1;31m---------------------------------------------------------------------------\u001b[0m",
      "\u001b[1;31mTypeError\u001b[0m                                 Traceback (most recent call last)",
      "\u001b[1;32m~\\AppData\\Local\\Temp/ipykernel_19840/1774935878.py\u001b[0m in \u001b[0;36m<module>\u001b[1;34m\u001b[0m\n\u001b[1;32m----> 1\u001b[1;33m \u001b[1;34m'I have eaten '\u001b[0m \u001b[1;33m+\u001b[0m \u001b[1;36m99\u001b[0m \u001b[1;33m+\u001b[0m \u001b[1;34m' burritos.'\u001b[0m\u001b[1;33m\u001b[0m\u001b[1;33m\u001b[0m\u001b[0m\n\u001b[0m",
      "\u001b[1;31mTypeError\u001b[0m: can only concatenate str (not \"int\") to str"
     ]
    }
   ],
   "source": [
    "'I have eaten ' + 99 + ' burritos.'"
   ]
  },
  {
   "cell_type": "code",
   "execution_count": 7,
   "id": "90dbfe4a",
   "metadata": {},
   "outputs": [
    {
     "data": {
      "text/plain": [
       "'I have eaten 99 burritos.'"
      ]
     },
     "execution_count": 7,
     "metadata": {},
     "output_type": "execute_result"
    }
   ],
   "source": [
    "'I have eaten ' + str(99) + ' burritos.'"
   ]
  },
  {
   "cell_type": "raw",
   "id": "6553566f",
   "metadata": {},
   "source": [
    "typecasting will resolve the error"
   ]
  }
 ],
 "metadata": {
  "kernelspec": {
   "display_name": "Python 3 (ipykernel)",
   "language": "python",
   "name": "python3"
  },
  "language_info": {
   "codemirror_mode": {
    "name": "ipython",
    "version": 3
   },
   "file_extension": ".py",
   "mimetype": "text/x-python",
   "name": "python",
   "nbconvert_exporter": "python",
   "pygments_lexer": "ipython3",
   "version": "3.9.7"
  }
 },
 "nbformat": 4,
 "nbformat_minor": 5
}
