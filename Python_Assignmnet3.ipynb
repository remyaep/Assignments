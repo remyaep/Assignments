{
 "cells": [
  {
   "cell_type": "raw",
   "id": "1ff45ac3",
   "metadata": {},
   "source": [
    "1. Why are functions advantageous to have in your programs?\n",
    "\n",
    "Function perform a specific operation. It can be called at any stage of the program to perform same operation with difference input parameters"
   ]
  },
  {
   "cell_type": "raw",
   "id": "08af87b2",
   "metadata": {},
   "source": [
    "2. When does the code in a function run: when it's specified or when it's called?\n",
    "\n",
    "Deffining a function doesn't perform anything. It needs to be called.\n",
    "A function when called executes the code within it"
   ]
  },
  {
   "cell_type": "raw",
   "id": "3077e888",
   "metadata": {},
   "source": [
    "3. What statement creates a function?\n",
    "\n",
    "def func_name():\n",
    "    \"\"\"Docstring\"\"\"\n",
    "    <<<code>>"
   ]
  },
  {
   "cell_type": "raw",
   "id": "40a112f9",
   "metadata": {},
   "source": [
    "4. What is the difference between a function and a function call?\n",
    "\n",
    "def func_name():   --> This is the function \n",
    "    \"\"\"Docstring\"\"\"\n",
    "    <<<code>>\n",
    "    \n",
    "func_name()  --> this is function call. A function executes only when is called"
   ]
  },
  {
   "cell_type": "raw",
   "id": "52795232",
   "metadata": {},
   "source": [
    "5. How many global scopes are there in a Python program? How many local scopes?\n",
    "\n",
    "1 global and 1 local scope\n",
    "A variable declared inside a function has local scope \n",
    "whereas a variable declared outside a function has global scope. It can be used at any stage of the programming"
   ]
  },
  {
   "cell_type": "raw",
   "id": "7cc5e617",
   "metadata": {},
   "source": [
    "6. What happens to variables in a local scope when the function call returns?\n",
    "\n",
    "Variable in local scope gets destroyed once function returns. Its just available within the function."
   ]
  },
  {
   "cell_type": "raw",
   "id": "d7654151",
   "metadata": {},
   "source": [
    "7. What is the concept of a return value? Is it possible to have a return value in an expression?\n",
    "\n",
    "return send back the outcome of the function to the function call.\n",
    "Yes it is possible to have a return value in an expression provided their daya type match\n",
    "\n",
    "example below"
   ]
  },
  {
   "cell_type": "code",
   "execution_count": 3,
   "id": "db22fce4",
   "metadata": {},
   "outputs": [
    {
     "name": "stdout",
     "output_type": "stream",
     "text": [
      "15\n"
     ]
    }
   ],
   "source": [
    "def add(a,b):\n",
    "    return a+b\n",
    "print(5+add(4,6))"
   ]
  },
  {
   "cell_type": "raw",
   "id": "7efbacf8",
   "metadata": {},
   "source": [
    "8. If a function does not have a return statement, what is the return value of a call to that function?\n",
    "\n",
    "nonetype"
   ]
  },
  {
   "cell_type": "code",
   "execution_count": 5,
   "id": "8eeaf23a",
   "metadata": {},
   "outputs": [
    {
     "data": {
      "text/plain": [
       "NoneType"
      ]
     },
     "execution_count": 5,
     "metadata": {},
     "output_type": "execute_result"
    }
   ],
   "source": [
    "def add(a,b):\n",
    "    a+b\n",
    "type(add(5,6))"
   ]
  },
  {
   "cell_type": "raw",
   "id": "04205bbf",
   "metadata": {},
   "source": [
    "9. How do you make a function variable refer to the global variable?\n",
    "\n",
    "Declare the variable outside the function"
   ]
  },
  {
   "cell_type": "raw",
   "id": "85e50ecb",
   "metadata": {},
   "source": [
    "10. What is the data type of None?"
   ]
  },
  {
   "cell_type": "code",
   "execution_count": 2,
   "id": "e016fb51",
   "metadata": {},
   "outputs": [
    {
     "data": {
      "text/plain": [
       "NoneType"
      ]
     },
     "execution_count": 2,
     "metadata": {},
     "output_type": "execute_result"
    }
   ],
   "source": [
    "type(None)"
   ]
  },
  {
   "cell_type": "raw",
   "id": "56ffaa45",
   "metadata": {},
   "source": [
    "11. What does the sentence import areallyourpetsnamederic do?\n",
    "\n",
    "It imports the module areallyourpetsnamederic which might be containing different functions"
   ]
  },
  {
   "cell_type": "raw",
   "id": "6d7a90df",
   "metadata": {},
   "source": [
    "12. If you had a bacon() feature in a spam module, what would you call it after importing spam?\n",
    "\n",
    "import spam as sp\n",
    "\n",
    "sp.bacon()"
   ]
  },
  {
   "cell_type": "raw",
   "id": "0ff221b3",
   "metadata": {},
   "source": [
    "13. What can you do to save a programme from crashing if it encounters an error?\n",
    "\n",
    "Use try except "
   ]
  },
  {
   "cell_type": "raw",
   "id": "f16e2290",
   "metadata": {},
   "source": [
    "14. What is the purpose of the try clause? What is the purpose of the except clause?\n",
    "\n",
    "Code written in try clause gets executed as normal.\n",
    "Any excpetions arising out of try clause will be handled in except clause"
   ]
  }
 ],
 "metadata": {
  "kernelspec": {
   "display_name": "Python 3 (ipykernel)",
   "language": "python",
   "name": "python3"
  },
  "language_info": {
   "codemirror_mode": {
    "name": "ipython",
    "version": 3
   },
   "file_extension": ".py",
   "mimetype": "text/x-python",
   "name": "python",
   "nbconvert_exporter": "python",
   "pygments_lexer": "ipython3",
   "version": "3.9.7"
  }
 },
 "nbformat": 4,
 "nbformat_minor": 5
}
