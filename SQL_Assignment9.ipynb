{
 "cells": [
  {
   "cell_type": "raw",
   "id": "23834875",
   "metadata": {},
   "source": [
    "Write an SQL query to show the top n (say 10) records of a table.\n",
    "\n",
    "\n",
    "select * from EMP where rownum <=10"
   ]
  },
  {
   "cell_type": "raw",
   "id": "fcb3c297",
   "metadata": {},
   "source": [
    "Write an SQL query to determine the nth (say n=5) highest salary from a table.\n",
    "\n",
    "select * from EMP_TABLE order by SALARY where rownum=5"
   ]
  }
 ],
 "metadata": {
  "kernelspec": {
   "display_name": "Python 3 (ipykernel)",
   "language": "python",
   "name": "python3"
  },
  "language_info": {
   "codemirror_mode": {
    "name": "ipython",
    "version": 3
   },
   "file_extension": ".py",
   "mimetype": "text/x-python",
   "name": "python",
   "nbconvert_exporter": "python",
   "pygments_lexer": "ipython3",
   "version": "3.9.12"
  }
 },
 "nbformat": 4,
 "nbformat_minor": 5
}
