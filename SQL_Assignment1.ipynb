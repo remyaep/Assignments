{
 "cells": [
  {
   "cell_type": "raw",
   "id": "518f1f22",
   "metadata": {},
   "source": [
    "Write an SQL query to fetch “FIRST_NAME” from Worker table using the alias\n",
    "name as <WORKER_NAME>\n",
    "\n",
    "select FIRST_NAME as \"WORKER_NAME\" from Worker"
   ]
  },
  {
   "cell_type": "raw",
   "id": "e025ea15",
   "metadata": {},
   "source": [
    "Write an SQL query to fetch unique values of DEPARTMENT from Worker table.\n",
    "\n",
    "select distinct DEPARTMENT from Worker"
   ]
  },
  {
   "cell_type": "raw",
   "id": "91e174f4",
   "metadata": {},
   "source": [
    "Write an SQL query to show the last 5 record from a table.\n",
    "\n",
    "select id,* from Worker order by desc limit 5"
   ]
  }
 ],
 "metadata": {
  "kernelspec": {
   "display_name": "Python 3 (ipykernel)",
   "language": "python",
   "name": "python3"
  },
  "language_info": {
   "codemirror_mode": {
    "name": "ipython",
    "version": 3
   },
   "file_extension": ".py",
   "mimetype": "text/x-python",
   "name": "python",
   "nbconvert_exporter": "python",
   "pygments_lexer": "ipython3",
   "version": "3.9.7"
  }
 },
 "nbformat": 4,
 "nbformat_minor": 5
}
