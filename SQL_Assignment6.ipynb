{
 "cells": [
  {
   "cell_type": "raw",
   "id": "18aa0f09",
   "metadata": {},
   "source": [
    "Write an SQL query to print details of the Workers who have joined in Feb’2014.\n",
    "\n",
    "Assuming date is the datatype of the column\n",
    "\n",
    "select * from Workers where month(joining_date) = '02' and year(joining_date) = '2014';"
   ]
  },
  {
   "cell_type": "raw",
   "id": "ea1ce36b",
   "metadata": {},
   "source": [
    "Write an SQL query to fetch duplicate records having matching data in some fields of a table.\n",
    "\n",
    "select FIRST_NAME,joining_date from Workers group by FIRST_NAME,joining_date  having count(*) > 1; "
   ]
  },
  {
   "cell_type": "raw",
   "id": "2cb9f5c9",
   "metadata": {},
   "source": [
    "How to remove duplicate rows from Employees table.\n",
    "\n",
    "Assuming name , salary and joining_date are fields having duplicate data\n",
    "\n",
    "\n",
    "delete a from Employees as a inner join Employees as b \n",
    "where a.name=b.name and a.salary=b.salary and a.joining_date=b.joining_date;"
   ]
  }
 ],
 "metadata": {
  "kernelspec": {
   "display_name": "Python 3 (ipykernel)",
   "language": "python",
   "name": "python3"
  },
  "language_info": {
   "codemirror_mode": {
    "name": "ipython",
    "version": 3
   },
   "file_extension": ".py",
   "mimetype": "text/x-python",
   "name": "python",
   "nbconvert_exporter": "python",
   "pygments_lexer": "ipython3",
   "version": "3.9.7"
  }
 },
 "nbformat": 4,
 "nbformat_minor": 5
}
