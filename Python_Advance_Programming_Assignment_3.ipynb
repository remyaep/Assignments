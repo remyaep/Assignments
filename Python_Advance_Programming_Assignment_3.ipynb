{
 "cells": [
  {
   "cell_type": "raw",
   "id": "25f2de95",
   "metadata": {},
   "source": [
    "1. Create a function to perform basic arithmetic operations that includes\n",
    "addition, subtraction, multiplication and division on a string number (e.g. \"12 +\n",
    "24\" or \"23 - 21\" or \"12 // 12\" or \"12 * 21\").\n",
    "Here, we have 1 followed by a space, operator followed by another space\n",
    "and 2. For the challenge, we are going to have only two numbers between 1\n",
    "valid operator. The return value should be a number.\n",
    "eval() is not allowed. In case of division, whenever the second number equals\n",
    "\"0\" return -1.\n",
    "For example:\n",
    "\"15 // 0\" ➞ -1\n",
    "Examples\n",
    "arithmetic_operation(\"12 + 12\") ➞ 24 // 12 + 12 = 24\n",
    "arithmetic_operation(\"12 - 12\") ➞ 24 // 12 - 12 = 0\n",
    "arithmetic_operation(\"12 * 12\") ➞ 144 // 12 * 12 = 144\n",
    "arithmetic_operation(\"12 // 0\") ➞ -1 // 12 / 0 = -1"
   ]
  },
  {
   "cell_type": "code",
   "execution_count": 188,
   "id": "ade989c3",
   "metadata": {},
   "outputs": [
    {
     "data": {
      "text/plain": [
       "144.0"
      ]
     },
     "execution_count": 188,
     "metadata": {},
     "output_type": "execute_result"
    }
   ],
   "source": [
    "import operator\n",
    "def arithmetic_operation(string):\n",
    "    \"\"\"\"\"\"\n",
    "    ops = { \"+\": operator.add, \"-\": operator.sub, \"*\": operator.mul, \"//\":operator.floordiv, \"/\":operator.truediv} \n",
    "    string = string.split()\n",
    "    try:\n",
    "        output= ops[string[1]](float(string[0]),float(string[2]))\n",
    "    except ZeroDivisionError:\n",
    "        output = -1\n",
    "    except Exception as e:\n",
    "        print(\"Exception occured : \",e)\n",
    "    return output\n",
    "\n",
    "\n",
    "arithmetic_operation(\"12 * 12\")"
   ]
  },
  {
   "cell_type": "raw",
   "id": "0a03a6e7",
   "metadata": {},
   "source": [
    "2. Write a function that takes the coordinates of three points in the form of a\n",
    "2d array and returns the perimeter of the triangle. The given points are the\n",
    "vertices of a triangle on a two-dimensional plane.\n",
    "Examples\n",
    "perimeter( [ [15, 7], [5, 22], [11, 1] ] ) ➞ 47.08\n",
    "perimeter( [ [0, 0], [0, 1], [1, 0] ] ) ➞ 3.42\n",
    "perimeter( [ [-10, -10], [10, 10 ], [-10, 10] ] ) ➞ 68.28"
   ]
  },
  {
   "cell_type": "code",
   "execution_count": 191,
   "id": "765abf37",
   "metadata": {},
   "outputs": [
    {
     "name": "stdout",
     "output_type": "stream",
     "text": [
      "68.28\n"
     ]
    }
   ],
   "source": [
    "def perimeter(cordinates):\n",
    "    \"\"\"This function takes the coordinates of three points in the form of a 2d array and returns the perimeter \n",
    "    of the triangle.\"\"\"\n",
    "    A = cordinates[0]\n",
    "    B = cordinates[1]\n",
    "    C = cordinates[2]\n",
    "    AB = m.sqrt((A[0]-B[0])**2+(A[1]-B[1])**2)\n",
    "    BC = m.sqrt((B[0]-C[0])**2+(B[1]-C[1])**2)\n",
    "    CA = m.sqrt((C[0]-A[0])**2+(C[1]-A[1])**2)\n",
    "    perimeter = round(AB+BC+CA,2)\n",
    "    return perimeter\n",
    "\n",
    "print(perimeter([ [-10, -10], [10, 10 ], [-10, 10] ] ))"
   ]
  },
  {
   "cell_type": "raw",
   "id": "4d5e11d2",
   "metadata": {},
   "source": [
    "3. A city skyline can be represented as a 2-D list with 1s representing\n",
    "buildings. In the example below, the height of the tallest building is 4 (second-\n",
    "most right column).\n",
    "[[0, 0, 0, 0, 0, 0],\n",
    "[0, 0, 0, 0, 1, 0],\n",
    "[0, 0, 1, 0, 1, 0],\n",
    "[0, 1, 1, 1, 1, 0],\n",
    "[1, 1, 1, 1, 1, 1]]\n",
    "Create a function that takes a skyline (2-D list of 0's and 1's) and returns the\n",
    "height of the tallest skyscraper.\n",
    "Examples\n",
    "tallest_skyscraper([\n",
    "[0, 0, 0, 0],\n",
    "[0, 1, 0, 0],\n",
    "[0, 1, 1, 0],\n",
    "[1, 1, 1, 1]\n",
    "]) ➞ 3\n",
    "tallest_skyscraper([\n",
    "[0, 1, 0, 0],\n",
    "[0, 1, 0, 0],\n",
    "[0, 1, 1, 0],\n",
    "[1, 1, 1, 1]\n",
    "]) ➞ 4\n",
    "tallest_skyscraper([\n",
    "[0, 0, 0, 0],\n",
    "[0, 0, 0, 0],\n",
    "[1, 1, 1, 0],\n",
    "[1, 1, 1, 1]\n",
    "]) ➞ 2"
   ]
  },
  {
   "cell_type": "code",
   "execution_count": 121,
   "id": "cf26ef94",
   "metadata": {},
   "outputs": [
    {
     "name": "stdout",
     "output_type": "stream",
     "text": [
      "4\n"
     ]
    }
   ],
   "source": [
    "import numpy as np\n",
    "def tallest_skyscraper(heights):\n",
    "    \"\"\"This function takes a skyline (2-D list of 0's and 1's) and returns the\n",
    "height of the tallest skyscraper\"\"\"\n",
    "    arr = np.array(heights)\n",
    "    output = arr[0]\n",
    "    for i in range(len(arr)-1):\n",
    "        output = output+arr[i+1]\n",
    "    return max(output)\n",
    "         \n",
    "    \n",
    "\n",
    "output = tallest_skyscraper([[0, 0, 0, 0, 0, 0],\n",
    "[0, 0, 0, 0, 1, 0],\n",
    "[0, 0, 1, 0, 1, 0],\n",
    "[0, 1, 1, 1, 1, 0],\n",
    "[1, 1, 1, 1, 1, 1]])\n",
    "\n",
    "print(output)"
   ]
  },
  {
   "cell_type": "raw",
   "id": "f02d00af",
   "metadata": {},
   "source": [
    "4. A financial institution provides professional services to banks and claims\n",
    "charges from the customers based on the number of man-days provided.\n",
    "Internally, it has set a scheme to motivate and reward staff to meet and\n",
    "exceed targeted billable utilization and revenues by paying a bonus for each\n",
    "day claimed from customers in excess of a threshold target.\n",
    "This quarterly scheme is calculated with a threshold target of 32 days per\n",
    "quarter, and the incentive payment for each billable day in excess of such\n",
    "threshold target is shown as follows:\n",
    "Days Bonus\n",
    "0 to 32 days Zero\n",
    "33 to 40 days SGD$325 per billable day\n",
    "41 to 48 days SGD$550 per billable day\n",
    "Greater than 48 days SGD$600 per billable day\n",
    "\n",
    "Please note that incentive payment is calculated progressively. As an\n",
    "example, if an employee reached total billable days of 45 in a quarter, his/her\n",
    "incentive payment is computed as follows:\n",
    "32*0 + 8*325 + 5*550 = 5350\n",
    "Write a function to read the billable days of an employee and return the bonus\n",
    "he/she has obtained in that quarter.\n",
    "Examples\n",
    "bonus(15) ➞ 0\n",
    "bonus(37) ➞ 1625\n",
    "bonus(50) ➞ 8200"
   ]
  },
  {
   "cell_type": "code",
   "execution_count": 190,
   "id": "5452df51",
   "metadata": {},
   "outputs": [
    {
     "data": {
      "text/plain": [
       "1625"
      ]
     },
     "execution_count": 190,
     "metadata": {},
     "output_type": "execute_result"
    }
   ],
   "source": [
    "def incentive_payment(days):\n",
    "    \"\"\"This function read the billable days of an employee and return the bonus\n",
    "he/she has obtained in that quarter.\"\"\"\n",
    "    if days<=32:\n",
    "        bonus=0\n",
    "        return bonus \n",
    "    elif days<=40:\n",
    "        bonus=32*0+(days-32)*325\n",
    "        return bonus\n",
    "    elif days<=48:\n",
    "        bonus=32*0+(days-40)*550+8*325\n",
    "        return bonus\n",
    "    else:\n",
    "        bonus=32*0+(days-48)*600+8*325+8*550\n",
    "        return bonus\n",
    "    \n",
    "incentive_payment(37)"
   ]
  },
  {
   "cell_type": "raw",
   "id": "f41c80ec",
   "metadata": {},
   "source": [
    "5. A number is said to be Disarium if the sum of its digits raised to their\n",
    "respective positions is the number itself.\n",
    "Create a function that determines whether a number is a Disarium or not.\n",
    "Examples\n",
    "is_disarium(75) ➞ False\n",
    "# 7^1 + 5^2 = 7 + 25 = 32\n",
    "is_disarium(135) ➞ True\n",
    "# 1^1 + 3^2 + 5^3 = 1 + 9 + 125 = 135\n",
    "is_disarium(544) ➞ False\n",
    "is_disarium(518) ➞ True\n",
    "is_disarium(466) ➞ False\n",
    "is_disarium(8) ➞ True"
   ]
  },
  {
   "cell_type": "code",
   "execution_count": 189,
   "id": "d882a60f",
   "metadata": {},
   "outputs": [
    {
     "data": {
      "text/plain": [
       "True"
      ]
     },
     "execution_count": 189,
     "metadata": {},
     "output_type": "execute_result"
    }
   ],
   "source": [
    "def is_disarium(num):\n",
    "    \"\"\"This function determines whether a number is a Disarium or not.\"\"\"\n",
    "    tot=0\n",
    "    for i, j in enumerate(str(num)):\n",
    "        tot += int(j)**(i+1)\n",
    "    if tot==num:\n",
    "        return True\n",
    "    else:\n",
    "        return False\n",
    "\n",
    "is_disarium(8)\n"
   ]
  },
  {
   "cell_type": "code",
   "execution_count": null,
   "id": "8de36162",
   "metadata": {},
   "outputs": [],
   "source": []
  }
 ],
 "metadata": {
  "kernelspec": {
   "display_name": "Python 3 (ipykernel)",
   "language": "python",
   "name": "python3"
  },
  "language_info": {
   "codemirror_mode": {
    "name": "ipython",
    "version": 3
   },
   "file_extension": ".py",
   "mimetype": "text/x-python",
   "name": "python",
   "nbconvert_exporter": "python",
   "pygments_lexer": "ipython3",
   "version": "3.9.7"
  }
 },
 "nbformat": 4,
 "nbformat_minor": 5
}
