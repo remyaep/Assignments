{
 "cells": [
  {
   "cell_type": "raw",
   "id": "4d6672cc",
   "metadata": {},
   "source": [
    "Write an SQL query to print details of workers excluding first names, “Vipul” and “Satish” from Worker table.\n",
    "\n",
    "\n",
    "select * from Workers where lower(FIRST_NAME) not in (\"vipul\",\"satish\");"
   ]
  },
  {
   "cell_type": "raw",
   "id": "a8636ee6",
   "metadata": {},
   "source": [
    "Write an SQL query to print details of the Workers whose FIRST_NAME ends with ‘h’ and contains six alphabets.\n",
    "\n",
    "select * from test_db.emp_details where length(name)=6 and substring(lower(name) ,6,1)='h';"
   ]
  },
  {
   "cell_type": "raw",
   "id": "e63daf9f",
   "metadata": {},
   "source": [
    "Write a query to validate Email of Employee.\n",
    "\n",
    "select * from Employee where email like '%@gmail.com' or email like '@yahoo.com' or email like '@hotmail.com';"
   ]
  }
 ],
 "metadata": {
  "kernelspec": {
   "display_name": "Python 3 (ipykernel)",
   "language": "python",
   "name": "python3"
  },
  "language_info": {
   "codemirror_mode": {
    "name": "ipython",
    "version": 3
   },
   "file_extension": ".py",
   "mimetype": "text/x-python",
   "name": "python",
   "nbconvert_exporter": "python",
   "pygments_lexer": "ipython3",
   "version": "3.9.7"
  }
 },
 "nbformat": 4,
 "nbformat_minor": 5
}
