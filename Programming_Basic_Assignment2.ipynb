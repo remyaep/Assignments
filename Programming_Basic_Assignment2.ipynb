{
 "cells": [
  {
   "cell_type": "raw",
   "id": "e51e8912",
   "metadata": {},
   "source": [
    "1. Write a Python program to convert kilometers to miles?"
   ]
  },
  {
   "cell_type": "code",
   "execution_count": 49,
   "id": "5efd1771",
   "metadata": {},
   "outputs": [
    {
     "name": "stdout",
     "output_type": "stream",
     "text": [
      "enter the kilometer : 5.3\n",
      "Miles =  3.2932663\n"
     ]
    }
   ],
   "source": [
    "conv_rate = 0.621371\n",
    "km = float(input(\"enter the kilometer : \"))\n",
    "miles = km*conv_rate\n",
    "print(\"Miles = \",miles)"
   ]
  },
  {
   "cell_type": "raw",
   "id": "e2543c48",
   "metadata": {},
   "source": [
    "2. Write a Python program to convert Celsius to Fahrenheit?"
   ]
  },
  {
   "cell_type": "code",
   "execution_count": 52,
   "id": "4e9461eb",
   "metadata": {},
   "outputs": [
    {
     "name": "stdout",
     "output_type": "stream",
     "text": [
      "enter the celcius : 7\n",
      "Farenheit =  44.6\n"
     ]
    }
   ],
   "source": [
    "celcius = float(input(\"enter the celcius : \"))\n",
    "farenheit = (celcius * (9/5)) + 32\n",
    "print(\"Farenheit = \",farenheit)"
   ]
  },
  {
   "cell_type": "raw",
   "id": "6410f3d0",
   "metadata": {},
   "source": [
    "3. Write a Python program to display calendar?"
   ]
  },
  {
   "cell_type": "code",
   "execution_count": 24,
   "id": "ce4c93ca",
   "metadata": {},
   "outputs": [
    {
     "name": "stdout",
     "output_type": "stream",
     "text": [
      "Enter year: 2022\n",
      "Enter month: 01\n",
      "    January 2022\n",
      "Mo Tu We Th Fr Sa Su\n",
      "                1  2\n",
      " 3  4  5  6  7  8  9\n",
      "10 11 12 13 14 15 16\n",
      "17 18 19 20 21 22 23\n",
      "24 25 26 27 28 29 30\n",
      "31\n",
      "\n"
     ]
    }
   ],
   "source": [
    "import calendar\n",
    "\n",
    "yy = int(input(\"Enter year: \"))\n",
    "mm = int(input(\"Enter month: \"))\n",
    "\n",
    "\n",
    "print(calendar.month(yy,mm))"
   ]
  },
  {
   "cell_type": "raw",
   "id": "319120be",
   "metadata": {},
   "source": [
    "4. Write a Python program to solve quadratic equation?"
   ]
  },
  {
   "cell_type": "code",
   "execution_count": 46,
   "id": "9e4c9d75",
   "metadata": {},
   "outputs": [
    {
     "name": "stdout",
     "output_type": "stream",
     "text": [
      "Enter a :1\n",
      "Enter b :5\n",
      "Enter c :6\n",
      "value 1 :  -2.0\n",
      "value 2 :  -3.0\n"
     ]
    }
   ],
   "source": [
    "\n",
    "a = int(input(\"Enter a :\"))\n",
    "b = int(input(\"Enter b :\"))\n",
    "c = int(input(\"Enter c :\"))\n",
    "\n",
    "#Solution of quadratic equation --> (-b ± (b ** 2 - 4 * a * c) ** 0.5) / (2 * a)\n",
    "\n",
    "v1 = (-b + (b ** 2 - 4 * a * c) ** 0.5) / (2 * a)\n",
    "v2 = (-b - (b ** 2 - 4 * a * c) ** 0.5) / (2 * a)\n",
    "\n",
    "print(\"value 1 : \", v1)\n",
    "print(\"value 2 : \", v2)"
   ]
  },
  {
   "cell_type": "raw",
   "id": "74d73b79",
   "metadata": {},
   "source": [
    "5. Write a Python program to swap two variables without temp variable?"
   ]
  },
  {
   "cell_type": "code",
   "execution_count": 39,
   "id": "d2cfed1b",
   "metadata": {},
   "outputs": [
    {
     "name": "stdout",
     "output_type": "stream",
     "text": [
      "a =  3\n",
      "b =  9\n"
     ]
    }
   ],
   "source": [
    "a=9\n",
    "b=3\n",
    "a,b=b,a\n",
    "print(\"a = \",a)\n",
    "print(\"b = \",b)"
   ]
  },
  {
   "cell_type": "code",
   "execution_count": null,
   "id": "4e50042e",
   "metadata": {},
   "outputs": [],
   "source": []
  }
 ],
 "metadata": {
  "kernelspec": {
   "display_name": "Python 3 (ipykernel)",
   "language": "python",
   "name": "python3"
  },
  "language_info": {
   "codemirror_mode": {
    "name": "ipython",
    "version": 3
   },
   "file_extension": ".py",
   "mimetype": "text/x-python",
   "name": "python",
   "nbconvert_exporter": "python",
   "pygments_lexer": "ipython3",
   "version": "3.9.7"
  }
 },
 "nbformat": 4,
 "nbformat_minor": 5
}
